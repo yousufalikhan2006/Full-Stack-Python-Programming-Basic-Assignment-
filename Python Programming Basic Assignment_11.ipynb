{
 "cells": [
  {
   "cell_type": "markdown",
   "metadata": {},
   "source": [
    "# 1.\tWrite a Python program to find words which are greater than given length k?\n",
    "\n",
    "## Answer:"
   ]
  },
  {
   "cell_type": "code",
   "execution_count": 8,
   "metadata": {},
   "outputs": [
    {
     "name": "stdout",
     "output_type": "stream",
     "text": [
      "includes\n",
      "learning,\n",
      "computer\n",
      "learning\n"
     ]
    }
   ],
   "source": [
    "input_words = \"This is Full stack course which includes python, Deep learning, computer vision and Machine learning\"\n",
    "\n",
    "k = 7\n",
    "\n",
    "for word in input_words.split():\n",
    "    \n",
    "    if len(word) > k:\n",
    "        \n",
    "        print(word)"
   ]
  },
  {
   "cell_type": "markdown",
   "metadata": {},
   "source": [
    "# 2.\tWrite a Python program for removing i-th character from a string?\n",
    "\n",
    "## ANswer:"
   ]
  },
  {
   "cell_type": "code",
   "execution_count": 11,
   "metadata": {},
   "outputs": [
    {
     "name": "stdout",
     "output_type": "stream",
     "text": [
      "String after removing ith location character will be:  iNuron\n"
     ]
    }
   ],
   "source": [
    "input_string = \"iNeuron\"\n",
    "\n",
    "i_th = 3\n",
    "\n",
    "final_string =str()\n",
    "\n",
    "for char in range(len(input_string)):\n",
    "    \n",
    "    if char == (i_th -1):\n",
    "        \n",
    "        pass\n",
    "    \n",
    "    else:\n",
    "        \n",
    "        final_string += input_string[char]\n",
    "        \n",
    "print(\"String after removing ith location character will be: \",final_string)"
   ]
  },
  {
   "cell_type": "markdown",
   "metadata": {},
   "source": [
    "# 3.\tWrite a Python program to split and join a string?\n",
    "\n",
    "## Answer:"
   ]
  },
  {
   "cell_type": "code",
   "execution_count": 20,
   "metadata": {},
   "outputs": [
    {
     "name": "stdout",
     "output_type": "stream",
     "text": [
      "String Before split is:  This is a Full stack batch\n",
      "String after split will be:  ['This', 'is', 'a', 'Full', 'stack', 'batch']\n",
      "String after join will be:  This is a Full stack batch\n"
     ]
    }
   ],
   "source": [
    "input_words = \"This is a Full stack batch\"\n",
    "\n",
    "print(\"String Before split is: \", input_words)\n",
    "\n",
    "input_words.split()\n",
    "\n",
    "print(\"String after split will be: \", k)\n",
    "\n",
    "print(\"String after join will be: \", \" \".join(k))"
   ]
  },
  {
   "cell_type": "markdown",
   "metadata": {},
   "source": [
    "# 4.\tWrite a Python to check if a given string is binary string or not?\n",
    "\n",
    "## Answer:"
   ]
  },
  {
   "cell_type": "code",
   "execution_count": 6,
   "metadata": {},
   "outputs": [
    {
     "name": "stdout",
     "output_type": "stream",
     "text": [
      "Enter a STRING: 982727010101\n",
      "Given string is NOT a Binary string:  982727010101\n"
     ]
    }
   ],
   "source": [
    "input_string = str(input(\"Enter a STRING: \"))\n",
    "\n",
    "check_binary = ['0', '1']\n",
    "\n",
    "flag = False\n",
    "\n",
    "for char in input_string:\n",
    "    \n",
    "    if char not in check_binary:\n",
    "        \n",
    "        flag = True     \n",
    "        \n",
    "        break\n",
    "\n",
    "if flag:\n",
    "    \n",
    "    print(\"Given string is NOT a Binary string: \", input_string)\n",
    "    \n",
    "else:\n",
    "    \n",
    "    print(\"Given string IS a Binary string: \", input_string)"
   ]
  },
  {
   "cell_type": "markdown",
   "metadata": {},
   "source": [
    "# 5.\tWrite a Python program to find uncommon words from two Strings?\n",
    "\n",
    "## Answer:"
   ]
  },
  {
   "cell_type": "code",
   "execution_count": 14,
   "metadata": {},
   "outputs": [
    {
     "name": "stdout",
     "output_type": "stream",
     "text": [
      "Uncommon words from Two Strings Are as below: \n",
      "ineuron\n",
      "company\n"
     ]
    }
   ],
   "source": [
    "input_string1 = \"This is a iNeuron company\"\n",
    "\n",
    "str1_split = input_string1.lower().split()\n",
    "\n",
    "input_string2 = \"This is a Full Stack Course\"\n",
    "\n",
    "str2_split = input_string2.lower().split()\n",
    "\n",
    "print(\"Uncommon words from Two Strings Are as below: \")\n",
    "\n",
    "for word in str1_split:\n",
    "    \n",
    "    if word not in str2_split:\n",
    "        \n",
    "        print(word)"
   ]
  },
  {
   "cell_type": "markdown",
   "metadata": {},
   "source": [
    "# 6.\tWrite a Python to find all duplicate characters in string?\n",
    "\n",
    "## Answer:"
   ]
  },
  {
   "cell_type": "code",
   "execution_count": 22,
   "metadata": {},
   "outputs": [
    {
     "name": "stdout",
     "output_type": "stream",
     "text": [
      "'e' is a Duplicate character and occurred '6' times.\n",
      "'l' is a Duplicate character and occurred '3' times.\n",
      "'p' is a Duplicate character and occurred '3' times.\n",
      "'h' is a Duplicate character and occurred '3' times.\n",
      "'a' is a Duplicate character and occurred '2' times.\n",
      "'n' is a Duplicate character and occurred '2' times.\n",
      "'t' is a Duplicate character and occurred '2' times.\n"
     ]
    }
   ],
   "source": [
    "input_string = \"elephantelephanteleph\"\n",
    "\n",
    "unique_char = str()\n",
    "\n",
    "for i in input_string:\n",
    "    \n",
    "    if i not in unique_char:\n",
    "        \n",
    "        unique_char += i.lower()\n",
    "        \n",
    "for char in unique_char:\n",
    "    \n",
    "    count = 0\n",
    "    \n",
    "    for j in input_string.lower():\n",
    "        \n",
    "        if j == char:\n",
    "            \n",
    "            count += 1\n",
    "            \n",
    "    if count > 1:\n",
    "        \n",
    "        print(\"'{0}' is a Duplicate character and occurred '{1}' times.\".format(char, count))"
   ]
  },
  {
   "cell_type": "markdown",
   "metadata": {},
   "source": [
    "# 7.\tWrite a Python Program to check if a string contains any special character?\n",
    "\n",
    "## Answer:"
   ]
  },
  {
   "cell_type": "markdown",
   "metadata": {},
   "source": [
    "### 1st Method"
   ]
  },
  {
   "cell_type": "code",
   "execution_count": 40,
   "metadata": {},
   "outputs": [
    {
     "name": "stdout",
     "output_type": "stream",
     "text": [
      "Enter a string to check whether it's having special characters Or NOT: @jhhsd\n",
      "String is having special character/s.\n"
     ]
    }
   ],
   "source": [
    "input_char = str(input(\"Enter a string to check whether it's having special characters Or NOT: \"))\n",
    "\n",
    "special_chars = \"@_!#$%^&*()<>?/|}{~:\"\n",
    "\n",
    "flag = False\n",
    "\n",
    "for char in special_chars:\n",
    "    \n",
    "    if char not in input_char:\n",
    "        \n",
    "        pass\n",
    "                \n",
    "    else:\n",
    "        \n",
    "        flag = True\n",
    "        \n",
    "        break\n",
    "        \n",
    "if flag:\n",
    "    \n",
    "    print(\"String is having special character/s.\")\n",
    "    \n",
    "else:\n",
    "    \n",
    "    print(\"String is NOT having ANY special character/s.\")"
   ]
  },
  {
   "cell_type": "markdown",
   "metadata": {},
   "source": [
    "### 2nd Method"
   ]
  },
  {
   "cell_type": "code",
   "execution_count": 42,
   "metadata": {},
   "outputs": [
    {
     "name": "stdout",
     "output_type": "stream",
     "text": [
      "Enter any string: %jkahkah\n",
      "The string contains special characters.\n"
     ]
    }
   ],
   "source": [
    "import re\n",
    "\n",
    "string = input('Enter any string: ')\n",
    "\n",
    "special_char = re.compile('[@_!#$%^&*()<>?/\\|}{~:]')\n",
    "\n",
    "if(special_char.search(string) == None):\n",
    "    \n",
    "    print('String does not contain any special characters.')\n",
    "    \n",
    "else:\n",
    "    \n",
    "    print('The string contains special characters.')"
   ]
  }
 ],
 "metadata": {
  "kernelspec": {
   "display_name": "Python 3",
   "language": "python",
   "name": "python3"
  },
  "language_info": {
   "codemirror_mode": {
    "name": "ipython",
    "version": 3
   },
   "file_extension": ".py",
   "mimetype": "text/x-python",
   "name": "python",
   "nbconvert_exporter": "python",
   "pygments_lexer": "ipython3",
   "version": "3.7.3"
  }
 },
 "nbformat": 4,
 "nbformat_minor": 2
}
