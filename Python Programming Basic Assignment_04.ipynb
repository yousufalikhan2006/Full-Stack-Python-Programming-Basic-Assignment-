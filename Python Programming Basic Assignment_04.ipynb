{
 "cells": [
  {
   "cell_type": "markdown",
   "metadata": {},
   "source": [
    "# 1.\tWrite a Python Program to Find the Factorial of a Number?\n",
    "\n",
    "## Answer:"
   ]
  },
  {
   "cell_type": "code",
   "execution_count": 1,
   "metadata": {},
   "outputs": [],
   "source": [
    "def factorial(num):\n",
    "    \n",
    "    fact = 1\n",
    "    \n",
    "    for i in range(1, num+1):\n",
    "        \n",
    "        fact = i*fact\n",
    "        \n",
    "    print(fact)"
   ]
  },
  {
   "cell_type": "code",
   "execution_count": 2,
   "metadata": {},
   "outputs": [],
   "source": [
    "factorial(6)"
   ]
  },
  {
   "cell_type": "markdown",
   "metadata": {},
   "source": [
    "# 2.\tWrite a Python Program to Display the multiplication Table?\n",
    "\n",
    "## Answer:"
   ]
  },
  {
   "cell_type": "code",
   "execution_count": 3,
   "metadata": {},
   "outputs": [
    {
     "name": "stdout",
     "output_type": "stream",
     "text": [
      "Enter the number for which you are looking a multiplication Table: 3\n",
      "3 * 1 = 3 \n",
      "3 * 2 = 6 \n",
      "3 * 3 = 9 \n",
      "3 * 4 = 12 \n",
      "3 * 5 = 15 \n",
      "3 * 6 = 18 \n",
      "3 * 7 = 21 \n",
      "3 * 8 = 24 \n",
      "3 * 9 = 27 \n",
      "3 * 10 = 30 \n"
     ]
    }
   ],
   "source": [
    "num_table = int(input(\"Enter the number for which you are looking a multiplication Table: \"))\n",
    "\n",
    "inc = 1\n",
    "\n",
    "for i in range(10):\n",
    "    \n",
    "    print(\"{0} * {1} = {2} \".format(num_table, inc, inc*num_table))\n",
    "    \n",
    "    inc = inc + 1"
   ]
  },
  {
   "cell_type": "markdown",
   "metadata": {},
   "source": [
    "# 3.\tWrite a Python Program to Print the Fibonacci sequence?\n",
    "\n",
    "## Answer:"
   ]
  },
  {
   "cell_type": "code",
   "execution_count": 4,
   "metadata": {},
   "outputs": [],
   "source": [
    "def fabonacci():\n",
    "    a=0\n",
    "    b=1\n",
    "    l=[]\n",
    "    for i in range(25):\n",
    "        \n",
    "        l.append(a)\n",
    "        \n",
    "        a, b=b, a+b\n",
    "        \n",
    "    for i in l:\n",
    "        \n",
    "        print(i, end=\" \")\n",
    "    "
   ]
  },
  {
   "cell_type": "code",
   "execution_count": 5,
   "metadata": {},
   "outputs": [
    {
     "name": "stdout",
     "output_type": "stream",
     "text": [
      "0 1 1 2 3 5 8 13 21 34 55 89 144 233 377 610 987 1597 2584 4181 6765 10946 17711 28657 46368 "
     ]
    }
   ],
   "source": [
    "fabonacci()"
   ]
  },
  {
   "cell_type": "markdown",
   "metadata": {},
   "source": [
    "# 4.\tWrite a Python Program to Check Armstrong Number?\n",
    "\n",
    "## Answer:"
   ]
  },
  {
   "cell_type": "code",
   "execution_count": 40,
   "metadata": {},
   "outputs": [],
   "source": [
    "def Armstrong(num):\n",
    "    \n",
    "    l = []\n",
    "    cum_num = 0\n",
    "    digits = num\n",
    "    \n",
    "    while num > 0:\n",
    "        \n",
    "        temp = num%10\n",
    "        \n",
    "        l.insert(0, temp)\n",
    "        \n",
    "        num = num//10\n",
    "    print(l)\n",
    "    print(digits)\n",
    "    for i in l:\n",
    "        \n",
    "        cum_num += i**(len(l))\n",
    "        \n",
    "    if digits == cum_num:\n",
    "        \n",
    "        print(\"{0} is Armstron Number. Thank You!\".format(digits))\n",
    "        \n",
    "    else:\n",
    "        \n",
    "        print(\"{0} is NOT a Armstron Number. Try Another Number\".format(digits))"
   ]
  },
  {
   "cell_type": "code",
   "execution_count": 41,
   "metadata": {},
   "outputs": [
    {
     "name": "stdout",
     "output_type": "stream",
     "text": [
      "[1, 6, 3, 4]\n",
      "1634\n",
      "1634 is Armstron Number. Thank You!\n"
     ]
    }
   ],
   "source": [
    "Armstrong(1634)"
   ]
  },
  {
   "cell_type": "code",
   "execution_count": 43,
   "metadata": {},
   "outputs": [
    {
     "name": "stdout",
     "output_type": "stream",
     "text": [
      "[1, 5, 3]\n",
      "153\n",
      "153 is Armstron Number. Thank You!\n"
     ]
    }
   ],
   "source": [
    "Armstrong(153)"
   ]
  },
  {
   "cell_type": "markdown",
   "metadata": {},
   "source": [
    "# 5.\tWrite a Python Program to Find Armstrong Number in an Interval?\n",
    "\n",
    "## Answer:"
   ]
  },
  {
   "cell_type": "code",
   "execution_count": 58,
   "metadata": {},
   "outputs": [],
   "source": [
    "def Armstrong():\n",
    "    \n",
    "    lst_armstron=[]\n",
    "    \n",
    "    for num in range(1, 10000):\n",
    "        \n",
    "        l = []\n",
    "        cum_num = 0\n",
    "        digits = num\n",
    "        \n",
    "        while num > 0:\n",
    "            \n",
    "            temp = num%10\n",
    "            l.insert(0, temp)\n",
    "            num = num//10\n",
    "            #print(l)\n",
    "            #print(digits)\n",
    "            \n",
    "        for i in l:\n",
    "            \n",
    "            cum_num += i**(len(l))\n",
    "            \n",
    "        if digits == cum_num:\n",
    "            \n",
    "            lst_armstron.append(digits)\n",
    "                \n",
    "    for i in lst_armstron:\n",
    "        \n",
    "        print(i, end=\" \")"
   ]
  },
  {
   "cell_type": "code",
   "execution_count": 59,
   "metadata": {},
   "outputs": [
    {
     "name": "stdout",
     "output_type": "stream",
     "text": [
      "1 2 3 4 5 6 7 8 9 153 370 371 407 1634 8208 9474 "
     ]
    }
   ],
   "source": [
    "Armstrong()"
   ]
  },
  {
   "cell_type": "markdown",
   "metadata": {},
   "source": [
    "# 6.\tWrite a Python Program to Find the Sum of Natural Numbers?\n",
    "\n",
    "## Answer:"
   ]
  },
  {
   "cell_type": "markdown",
   "metadata": {},
   "source": [
    "###### Natural numbers ( ): The counting numbers {1, 2, 3, ...} are commonly called natural numbers; however, other definitions include 0, so that the non-negative integers {0, 1, 2, 3, ...} are also called natural numbers. Natural numbers including 0 are also called whole numbers."
   ]
  },
  {
   "cell_type": "code",
   "execution_count": 66,
   "metadata": {},
   "outputs": [
    {
     "name": "stdout",
     "output_type": "stream",
     "text": [
      "Enter the number to find the sum of natural numbers from 1 to num: 20\n",
      "Sum of first N no of natural numbers using Formula: 210.0\n",
      "Sum of first N no of natural numbers by Summation: 210\n"
     ]
    }
   ],
   "source": [
    "num = int(input(\"Enter the number to find the sum of natural numbers from 1 to num: \"))\n",
    "\n",
    "sum_of_num = 0\n",
    "\n",
    "for i in range(1, num+1):\n",
    "    \n",
    "    sum_of_natural_numbers = num*(num+1)/2\n",
    "    \n",
    "    # Another way\n",
    "    \n",
    "    sum_of_num += i\n",
    "    \n",
    "print(\"Sum of first N no of natural numbers using Formula: {0}\".format(sum_of_natural_numbers))\n",
    "print(\"Sum of first N no of natural numbers by Summation: {0}\".format(sum_of_num))"
   ]
  }
 ],
 "metadata": {
  "kernelspec": {
   "display_name": "Python 3",
   "language": "python",
   "name": "python3"
  },
  "language_info": {
   "codemirror_mode": {
    "name": "ipython",
    "version": 3
   },
   "file_extension": ".py",
   "mimetype": "text/x-python",
   "name": "python",
   "nbconvert_exporter": "python",
   "pygments_lexer": "ipython3",
   "version": "3.7.3"
  }
 },
 "nbformat": 4,
 "nbformat_minor": 2
}
