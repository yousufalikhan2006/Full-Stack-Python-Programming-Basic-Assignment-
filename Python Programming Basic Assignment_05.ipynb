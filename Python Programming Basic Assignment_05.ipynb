{
 "cells": [
  {
   "cell_type": "markdown",
   "metadata": {},
   "source": [
    "# 1.\tWrite a Python Program to Find LCM?\n",
    "\n",
    "## Answer:"
   ]
  },
  {
   "cell_type": "code",
   "execution_count": 2,
   "metadata": {},
   "outputs": [
    {
     "name": "stdout",
     "output_type": "stream",
     "text": [
      "Enter the First Number: 3\n",
      "Enter the Second Number: 5\n",
      "LCM of Two numbers 3 and 5 is 15\n"
     ]
    }
   ],
   "source": [
    "num1 = int(input(\"Enter the First Number: \"))\n",
    "num2 = int(input(\"Enter the Second Number: \"))\n",
    "\n",
    "if num1 > num2 :\n",
    "    max_num = num1\n",
    "\n",
    "else:\n",
    "    max_num = num2\n",
    "    \n",
    "while (True):\n",
    "    \n",
    "    if (max_num % num1==0) and (max_num % num2==0):\n",
    "               \n",
    "        break\n",
    "        \n",
    "    else:\n",
    "        \n",
    "        max_num = max_num + 1\n",
    "        \n",
    "print(\"LCM of Two numbers {0} and {1} is {2}\".format(num1, num2, max_num))"
   ]
  },
  {
   "cell_type": "markdown",
   "metadata": {},
   "source": [
    "# 2.\tWrite a Python Program to Find HCF?\n",
    "\n",
    "## Answer:"
   ]
  },
  {
   "cell_type": "code",
   "execution_count": 10,
   "metadata": {},
   "outputs": [
    {
     "name": "stdout",
     "output_type": "stream",
     "text": [
      "Enter the value of First Number: 25\n",
      "Enter the value of Second Number: 150\n",
      "25\n"
     ]
    }
   ],
   "source": [
    "num1 = int(input(\"Enter the value of First Number: \"))\n",
    "num2 = int(input(\"Enter the value of Second Number: \"))\n",
    "\n",
    "if num1 > num2:\n",
    "    max_num = num1\n",
    "    \n",
    "else:\n",
    "    max_num = num2\n",
    "    \n",
    "for i in range(1, max_num+1):\n",
    "    \n",
    "    if num1%i ==0 and num2%i==0 :\n",
    "        \n",
    "        hcf = i\n",
    "        \n",
    "print(hcf)"
   ]
  },
  {
   "cell_type": "markdown",
   "metadata": {},
   "source": [
    "# 3.\tWrite a Python Program to Convert Decimal to Binary, Octal and Hexadecimal?\n",
    "\n",
    "## Answer:"
   ]
  },
  {
   "cell_type": "code",
   "execution_count": 13,
   "metadata": {},
   "outputs": [
    {
     "name": "stdout",
     "output_type": "stream",
     "text": [
      "Enter the Decimal number which needs to be converted into Binary, Octal and Hexadecimal: 125\n",
      "Decimal to Binary:  0b1111101\n",
      "Decimal to Octal:  0o175\n",
      "Decimal to Haxadecimal:  0x7d\n"
     ]
    }
   ],
   "source": [
    "dec_num = int(input(\"Enter the Decimal number which needs to be converted into Binary, Octal and Hexadecimal: \"))\n",
    "\n",
    "print(\"Decimal to Binary: \", bin(dec_num))\n",
    "print(\"Decimal to Octal: \", oct(dec_num))\n",
    "print(\"Decimal to Haxadecimal: \", hex(dec_num))"
   ]
  },
  {
   "cell_type": "markdown",
   "metadata": {},
   "source": [
    "# 4.\tWrite a Python Program To Find ASCII value of a character?\n",
    "\n",
    "## Answer:"
   ]
  },
  {
   "cell_type": "code",
   "execution_count": 24,
   "metadata": {},
   "outputs": [
    {
     "name": "stdout",
     "output_type": "stream",
     "text": [
      "Enter the character name: A\n",
      "ASCII value of 'A' is: 65\n"
     ]
    }
   ],
   "source": [
    "char = str(input(\"Enter the character name: \"))\n",
    "\n",
    "print(\"ASCII value of '{0}' is: {1}\".format(char, ord(char)))"
   ]
  },
  {
   "cell_type": "markdown",
   "metadata": {},
   "source": [
    "# 5.\tWrite a Python Program to Make a Simple Calculator with 4 basic mathematical operations?\n",
    "\n",
    "## Answer:"
   ]
  },
  {
   "cell_type": "code",
   "execution_count": 31,
   "metadata": {},
   "outputs": [],
   "source": [
    "class calculator:\n",
    "    \n",
    "    def __init__(self, num1, num2):\n",
    "        \n",
    "        self.num1 = num1\n",
    "        self.num2 = num2\n",
    "        \n",
    "    def addition(self):\n",
    "        \n",
    "        return self.num1+self.num2\n",
    "    \n",
    "    def subtraction(self):\n",
    "        \n",
    "        return self.num1-self.num2\n",
    "    \n",
    "    def multiplication(self):\n",
    "        \n",
    "        return self.num1*self.num2\n",
    "    \n",
    "    def division(self):\n",
    "        \n",
    "        return self.num1/self.num2\n",
    "    \n",
    "    def __str__(self):\n",
    "        \n",
    "        return \"This is the program for basic calculations\""
   ]
  },
  {
   "cell_type": "code",
   "execution_count": 32,
   "metadata": {},
   "outputs": [],
   "source": [
    "calculator = calculator(4, 2)"
   ]
  },
  {
   "cell_type": "code",
   "execution_count": 33,
   "metadata": {},
   "outputs": [
    {
     "data": {
      "text/plain": [
       "6"
      ]
     },
     "execution_count": 33,
     "metadata": {},
     "output_type": "execute_result"
    }
   ],
   "source": [
    "calculator.addition()"
   ]
  },
  {
   "cell_type": "code",
   "execution_count": 34,
   "metadata": {},
   "outputs": [
    {
     "data": {
      "text/plain": [
       "2"
      ]
     },
     "execution_count": 34,
     "metadata": {},
     "output_type": "execute_result"
    }
   ],
   "source": [
    "calculator.subtraction()"
   ]
  },
  {
   "cell_type": "code",
   "execution_count": 35,
   "metadata": {},
   "outputs": [
    {
     "data": {
      "text/plain": [
       "8"
      ]
     },
     "execution_count": 35,
     "metadata": {},
     "output_type": "execute_result"
    }
   ],
   "source": [
    "calculator.multiplication()"
   ]
  },
  {
   "cell_type": "code",
   "execution_count": 36,
   "metadata": {},
   "outputs": [
    {
     "data": {
      "text/plain": [
       "2.0"
      ]
     },
     "execution_count": 36,
     "metadata": {},
     "output_type": "execute_result"
    }
   ],
   "source": [
    "calculator.division()"
   ]
  }
 ],
 "metadata": {
  "kernelspec": {
   "display_name": "Python 3",
   "language": "python",
   "name": "python3"
  },
  "language_info": {
   "codemirror_mode": {
    "name": "ipython",
    "version": 3
   },
   "file_extension": ".py",
   "mimetype": "text/x-python",
   "name": "python",
   "nbconvert_exporter": "python",
   "pygments_lexer": "ipython3",
   "version": "3.7.3"
  }
 },
 "nbformat": 4,
 "nbformat_minor": 2
}
