{
 "cells": [
  {
   "cell_type": "markdown",
   "id": "5fda30ab",
   "metadata": {},
   "source": [
    "# 1.\tWrite a Python Program to find sum of array?\n",
    "\n",
    "## Answer:"
   ]
  },
  {
   "cell_type": "code",
   "execution_count": 1,
   "id": "6d559651",
   "metadata": {},
   "outputs": [
    {
     "name": "stdout",
     "output_type": "stream",
     "text": [
      "The Sum of array will be:  45\n"
     ]
    }
   ],
   "source": [
    "array = [1,2,3,4,5,6,7,8,9]\n",
    "\n",
    "sum_of_array =0\n",
    "\n",
    "for i in array:\n",
    "    \n",
    "    sum_of_array +=i\n",
    "    \n",
    "print(\"The Sum of array will be: \", sum_of_array)"
   ]
  },
  {
   "cell_type": "markdown",
   "id": "8f439e40",
   "metadata": {},
   "source": [
    "# 2.\tWrite a Python Program to find largest element in an array?\n",
    "\n",
    "## Answer:"
   ]
  },
  {
   "cell_type": "code",
   "execution_count": 7,
   "id": "b9902613",
   "metadata": {},
   "outputs": [
    {
     "name": "stdout",
     "output_type": "stream",
     "text": [
      "Largest Element in array will be: 5662\n"
     ]
    }
   ],
   "source": [
    "array = [4,20,5,18,2299,5662,3,4,5]\n",
    "\n",
    "large =0\n",
    "\n",
    "for i in array:\n",
    "    \n",
    "    if large > i:\n",
    "        \n",
    "        pass\n",
    "    \n",
    "    else:\n",
    "        \n",
    "        \n",
    "        large = i\n",
    "        \n",
    "print(\"Largest Element in array will be: {}\".format(large))"
   ]
  },
  {
   "cell_type": "markdown",
   "id": "83b765af",
   "metadata": {},
   "source": [
    "# 3.\tWrite a Python Program for array rotation?\n",
    "\n",
    "## Answer:"
   ]
  },
  {
   "cell_type": "code",
   "execution_count": 27,
   "id": "6a07edfe",
   "metadata": {},
   "outputs": [
    {
     "name": "stdout",
     "output_type": "stream",
     "text": [
      "The Left Rorated array Will be:  [5, 6, 7, 8, 9, 1, 2, 3, 4]\n"
     ]
    }
   ],
   "source": [
    "array = [1,2,3,4,5,6,7,8,9]\n",
    "\n",
    "no_of_elements = len(array)\n",
    "\n",
    "left_rotate = 4\n",
    "\n",
    "temp_array = []\n",
    "\n",
    "array_left_rotated = []\n",
    "\n",
    "for i in range(no_of_elements):\n",
    "    \n",
    "    if i < left_rotate:\n",
    "        \n",
    "        temp_array.append(array[i])\n",
    "        \n",
    "    else:\n",
    "        \n",
    "        array_left_rotated.append(array[i])\n",
    "        \n",
    "        \n",
    "array_left_rotated = array_left_rotated + temp_array\n",
    "\n",
    "print(\"The Left Rorated array Will be: \", array_left_rotated)"
   ]
  },
  {
   "cell_type": "markdown",
   "id": "7ee6dd2e",
   "metadata": {},
   "source": [
    "# 4.\tWrite a Python Program to Split the array and add the first part to the end?\n",
    "\n",
    "## Answer:"
   ]
  },
  {
   "cell_type": "code",
   "execution_count": 31,
   "id": "dabf6de8",
   "metadata": {},
   "outputs": [],
   "source": [
    "def split_array(array, d):\n",
    "    \n",
    "    array_first = array[:d]\n",
    "    \n",
    "    return (array[d:] + array_first)"
   ]
  },
  {
   "cell_type": "code",
   "execution_count": 32,
   "id": "da9f4fb6",
   "metadata": {},
   "outputs": [
    {
     "data": {
      "text/plain": [
       "[75, 452, 874, 980, 1008, 1056, 123, 456, 789]"
      ]
     },
     "execution_count": 32,
     "metadata": {},
     "output_type": "execute_result"
    }
   ],
   "source": [
    "input_array = [123, 456, 789, 75, 452, 874, 980, 1008, 1056]\n",
    "\n",
    "d = 3 # Split the array such that first part having 3 elements and 2nd half is having remaining elements \n",
    "\n",
    "split_array(input_array, 3)"
   ]
  },
  {
   "cell_type": "markdown",
   "id": "b65cfd03",
   "metadata": {},
   "source": [
    "# 5.\tWrite a Python Program to check if given array is Monotonic?\n",
    "\n",
    "## Answer:"
   ]
  },
  {
   "cell_type": "code",
   "execution_count": 51,
   "id": "efdf33d2",
   "metadata": {},
   "outputs": [],
   "source": [
    "def monotonic(array):\n",
    "    \n",
    "    array_len = len(array)\n",
    "    \n",
    "    if all(array[i]<=array[i+1] for i in range(array_len-1)) or all(array[i]>=array[i+1] for i in range(array_len-1)):\n",
    "        \n",
    "        return \"Array is MONOTONIC\"\n",
    "    \n",
    "    else:\n",
    "        \n",
    "        return \"Array Is NOT Monotonic\""
   ]
  },
  {
   "cell_type": "code",
   "execution_count": 52,
   "id": "c0634f50",
   "metadata": {},
   "outputs": [
    {
     "data": {
      "text/plain": [
       "'Array is MONOTONIC'"
      ]
     },
     "execution_count": 52,
     "metadata": {},
     "output_type": "execute_result"
    }
   ],
   "source": [
    "monotonic([5,4,3,2,1])"
   ]
  },
  {
   "cell_type": "code",
   "execution_count": 53,
   "id": "e0cd40c3",
   "metadata": {},
   "outputs": [
    {
     "data": {
      "text/plain": [
       "'Array is MONOTONIC'"
      ]
     },
     "execution_count": 53,
     "metadata": {},
     "output_type": "execute_result"
    }
   ],
   "source": [
    "monotonic([1,2,3,4,5,6,7])"
   ]
  },
  {
   "cell_type": "code",
   "execution_count": 54,
   "id": "4ac94e69",
   "metadata": {},
   "outputs": [
    {
     "data": {
      "text/plain": [
       "'Array Is NOT Monotonic'"
      ]
     },
     "execution_count": 54,
     "metadata": {},
     "output_type": "execute_result"
    }
   ],
   "source": [
    "monotonic([6,8,7,9,15,22,3])"
   ]
  }
 ],
 "metadata": {
  "kernelspec": {
   "display_name": "Python 3",
   "language": "python",
   "name": "python3"
  },
  "language_info": {
   "codemirror_mode": {
    "name": "ipython",
    "version": 3
   },
   "file_extension": ".py",
   "mimetype": "text/x-python",
   "name": "python",
   "nbconvert_exporter": "python",
   "pygments_lexer": "ipython3",
   "version": "3.8.8"
  }
 },
 "nbformat": 4,
 "nbformat_minor": 5
}
