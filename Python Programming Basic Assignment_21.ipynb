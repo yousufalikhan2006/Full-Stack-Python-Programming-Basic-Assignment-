{
 "cells": [
  {
   "cell_type": "markdown",
   "id": "d4bb49f4",
   "metadata": {},
   "source": [
    "# Question1\n",
    "#### Write a function that takes a list and a number as arguments. Add the number to the end of the list, then remove the first element of the list. The function should then return the updated list.\n",
    "#### Examples\n",
    "#### next_in_line([5, 6, 7, 8, 9], 1) ➞ [6, 7, 8, 9, 1]\n",
    "\n",
    "#### next_in_line([7, 6, 3, 23, 17], 10) ➞ [6, 3, 23, 17, 10]\n",
    "\n",
    "#### next_in_line([1, 10, 20, 42 ], 6) ➞ [10, 20, 42, 6]\n",
    "\n",
    "#### next_in_line([], 6) ➞ \"No list has been selected\"\n",
    "\n",
    "## Answer:"
   ]
  },
  {
   "cell_type": "code",
   "execution_count": 24,
   "id": "03ab3647",
   "metadata": {},
   "outputs": [],
   "source": [
    "def next_in_line(input_list, num):\n",
    "    \n",
    "    result = []\n",
    "    \n",
    "    if len(input_list) == 0:\n",
    "        \n",
    "        return \"No list has been selected\"\n",
    "    \n",
    "    else:\n",
    "        \n",
    "        for i in range(len(input_list)):\n",
    "            \n",
    "            if i == 0:\n",
    "                \n",
    "                pass\n",
    "                \n",
    "            else:\n",
    "                \n",
    "                result.append(input_list[i])\n",
    "                \n",
    "        result.append(num)\n",
    "        \n",
    "        return result\n",
    "    "
   ]
  },
  {
   "cell_type": "code",
   "execution_count": 25,
   "id": "888fcd9f",
   "metadata": {},
   "outputs": [
    {
     "data": {
      "text/plain": [
       "[6, 7, 8, 9, 1]"
      ]
     },
     "execution_count": 25,
     "metadata": {},
     "output_type": "execute_result"
    }
   ],
   "source": [
    "next_in_line([5, 6, 7, 8, 9], 1)"
   ]
  },
  {
   "cell_type": "code",
   "execution_count": 26,
   "id": "abeb3b5d",
   "metadata": {},
   "outputs": [
    {
     "data": {
      "text/plain": [
       "[6, 3, 23, 17, 10]"
      ]
     },
     "execution_count": 26,
     "metadata": {},
     "output_type": "execute_result"
    }
   ],
   "source": [
    "next_in_line([7, 6, 3, 23, 17], 10)"
   ]
  },
  {
   "cell_type": "code",
   "execution_count": 27,
   "id": "427f8c10",
   "metadata": {},
   "outputs": [
    {
     "data": {
      "text/plain": [
       "[10, 20, 42, 6]"
      ]
     },
     "execution_count": 27,
     "metadata": {},
     "output_type": "execute_result"
    }
   ],
   "source": [
    "next_in_line([1, 10, 20, 42 ], 6)"
   ]
  },
  {
   "cell_type": "code",
   "execution_count": 28,
   "id": "a4488377",
   "metadata": {},
   "outputs": [
    {
     "data": {
      "text/plain": [
       "'No list has been selected'"
      ]
     },
     "execution_count": 28,
     "metadata": {},
     "output_type": "execute_result"
    }
   ],
   "source": [
    "next_in_line([], 6)"
   ]
  },
  {
   "cell_type": "markdown",
   "id": "6da97234",
   "metadata": {},
   "source": [
    "# Question2\n",
    "#### Create the function that takes a list of dictionaries and returns the sum of people's budgets.\n",
    "#### Examples\n",
    "#### get_budgets([\n",
    "####   { \"name\": \"John\", \"age\": 21, \"budget\": 23000 },\n",
    "####   { \"name\": \"Steve\",  \"age\": 32, \"budget\": 40000 },\n",
    "####   { \"name\": \"Martin\",  \"age\": 16, \"budget\": 2700 }\n",
    "#### ]) ➞ 65700\n",
    "\n",
    "#### get_budgets([\n",
    "####   { \"name\": \"John\",  \"age\": 21, \"budget\": 29000 },\n",
    "####   { \"name\": \"Steve\",  \"age\": 32, \"budget\": 32000 },\n",
    "####   { \"name\": \"Martin\",  \"age\": 16, \"budget\": 1600 }\n",
    "#### ]) ➞ 62600\n",
    "\n",
    "## Answer:"
   ]
  },
  {
   "cell_type": "code",
   "execution_count": 33,
   "id": "8139105e",
   "metadata": {},
   "outputs": [],
   "source": [
    "def get_budgets(input_list):\n",
    "    \n",
    "    result = 0\n",
    "    \n",
    "    for i in range(len(input_list)):\n",
    "        \n",
    "        result = result + input_list[i]['budget']\n",
    "        \n",
    "    return result"
   ]
  },
  {
   "cell_type": "code",
   "execution_count": 34,
   "id": "bd8585bf",
   "metadata": {},
   "outputs": [
    {
     "data": {
      "text/plain": [
       "65700"
      ]
     },
     "execution_count": 34,
     "metadata": {},
     "output_type": "execute_result"
    }
   ],
   "source": [
    "get_budgets([\n",
    "{ \"name\": \"John\", \"age\": 21, \"budget\": 23000 },\n",
    "{ \"name\": \"Steve\", \"age\": 32, \"budget\": 40000 },\n",
    "{ \"name\": \"Martin\", \"age\": 16, \"budget\": 2700 }\n",
    "])"
   ]
  },
  {
   "cell_type": "code",
   "execution_count": 35,
   "id": "6eed5893",
   "metadata": {},
   "outputs": [
    {
     "data": {
      "text/plain": [
       "62600"
      ]
     },
     "execution_count": 35,
     "metadata": {},
     "output_type": "execute_result"
    }
   ],
   "source": [
    "get_budgets([\n",
    "{ \"name\": \"John\", \"age\": 21, \"budget\": 29000 },\n",
    "{ \"name\": \"Steve\", \"age\": 32, \"budget\": 32000 },\n",
    "{ \"name\": \"Martin\", \"age\": 16, \"budget\": 1600 }\n",
    "])"
   ]
  },
  {
   "cell_type": "markdown",
   "id": "f60df7c0",
   "metadata": {},
   "source": [
    "# Question3\n",
    "#### Create a function that takes a string and returns a string with its letters in alphabetical order.\n",
    "#### Examples\n",
    "#### alphabet_soup(\"hello\") ➞ \"ehllo\"\n",
    "\n",
    "#### alphabet_soup(\"edabit\") ➞ \"abdeit\"\n",
    "\n",
    "#### alphabet_soup(\"hacker\") ➞ \"acehkr\"\n",
    "\n",
    "#### alphabet_soup(\"geek\") ➞ \"eegk\"\n",
    "\n",
    "#### alphabet_soup(\"javascript\") ➞ \"aacijprstv\"\n",
    "\n",
    "## Answer:"
   ]
  },
  {
   "cell_type": "code",
   "execution_count": 42,
   "id": "e843b346",
   "metadata": {},
   "outputs": [],
   "source": [
    "def alphabet_soup(input_string):\n",
    "    \n",
    "    test = []\n",
    "    \n",
    "    result =''\n",
    "    \n",
    "    for i in input_string:\n",
    "        \n",
    "        test.append(i)\n",
    "        \n",
    "    test.sort()\n",
    "    \n",
    "    for j in test:\n",
    "        \n",
    "        result += j\n",
    "        \n",
    "    return result"
   ]
  },
  {
   "cell_type": "code",
   "execution_count": 43,
   "id": "e2c53d64",
   "metadata": {},
   "outputs": [
    {
     "data": {
      "text/plain": [
       "'ehllo'"
      ]
     },
     "execution_count": 43,
     "metadata": {},
     "output_type": "execute_result"
    }
   ],
   "source": [
    "alphabet_soup(\"hello\")"
   ]
  },
  {
   "cell_type": "code",
   "execution_count": 44,
   "id": "e7ed53d7",
   "metadata": {},
   "outputs": [
    {
     "data": {
      "text/plain": [
       "'abdeit'"
      ]
     },
     "execution_count": 44,
     "metadata": {},
     "output_type": "execute_result"
    }
   ],
   "source": [
    "alphabet_soup(\"edabit\")"
   ]
  },
  {
   "cell_type": "code",
   "execution_count": 45,
   "id": "e12dbd6f",
   "metadata": {},
   "outputs": [
    {
     "data": {
      "text/plain": [
       "'acehkr'"
      ]
     },
     "execution_count": 45,
     "metadata": {},
     "output_type": "execute_result"
    }
   ],
   "source": [
    "alphabet_soup(\"hacker\")"
   ]
  },
  {
   "cell_type": "code",
   "execution_count": 46,
   "id": "0362a9df",
   "metadata": {},
   "outputs": [
    {
     "data": {
      "text/plain": [
       "'eegk'"
      ]
     },
     "execution_count": 46,
     "metadata": {},
     "output_type": "execute_result"
    }
   ],
   "source": [
    "alphabet_soup(\"geek\")"
   ]
  },
  {
   "cell_type": "code",
   "execution_count": 47,
   "id": "fc3a8a02",
   "metadata": {},
   "outputs": [
    {
     "data": {
      "text/plain": [
       "'aacijprstv'"
      ]
     },
     "execution_count": 47,
     "metadata": {},
     "output_type": "execute_result"
    }
   ],
   "source": [
    "alphabet_soup(\"javascript\")"
   ]
  },
  {
   "cell_type": "markdown",
   "id": "c86240f9",
   "metadata": {},
   "source": [
    "# Question4\n",
    "#### Suppose that you invest $10,000 for 10 years at an interest rate of 6% compounded monthly. What will be the value of #### your investment at the end of the 10 year period?\n",
    "#### Create a function that accepts the principal p, the term in years t, the interest rate r, and the number of \n",
    "#### compounding periods per year n. The function returns the value at the end of term rounded to the nearest cent.\n",
    "#### For the example above:\n",
    "#### compound_interest(10000, 10, 0.06, 12) ➞ 18193.97\n",
    "#### Note that the interest rate is given as a decimal and n=12 because with monthly compounding there are 12 periods per #### year. Compounding can also be done annually, quarterly, weekly, or daily.\n",
    "#### Examples\n",
    "#### compound_interest(100, 1, 0.05, 1) ➞ 105.0\n",
    "\n",
    "#### compound_interest(3500, 15, 0.1, 4) ➞ 15399.26\n",
    "\n",
    "#### compound_interest(100000, 20, 0.15, 365) ➞ 2007316.26\n",
    "\n",
    "## Answer:"
   ]
  },
  {
   "cell_type": "code",
   "execution_count": 75,
   "id": "8ea94aed",
   "metadata": {},
   "outputs": [],
   "source": [
    "def compound_interest(p, t, r, n):\n",
    "    \n",
    "    mid = 1 + (r/n)\n",
    "    \n",
    "    power = n * t\n",
    "    \n",
    "    A = p*(mid**power)\n",
    "    \n",
    "    print(\"%.2f\"%A)"
   ]
  },
  {
   "cell_type": "code",
   "execution_count": 76,
   "id": "f4d56479",
   "metadata": {},
   "outputs": [
    {
     "name": "stdout",
     "output_type": "stream",
     "text": [
      "105.00\n"
     ]
    }
   ],
   "source": [
    "compound_interest(100, 1, 0.05, 1)"
   ]
  },
  {
   "cell_type": "code",
   "execution_count": 77,
   "id": "5f37de4a",
   "metadata": {},
   "outputs": [
    {
     "name": "stdout",
     "output_type": "stream",
     "text": [
      "15399.26\n"
     ]
    }
   ],
   "source": [
    "compound_interest(3500, 15, 0.1, 4)"
   ]
  },
  {
   "cell_type": "code",
   "execution_count": 78,
   "id": "670f06ac",
   "metadata": {},
   "outputs": [
    {
     "name": "stdout",
     "output_type": "stream",
     "text": [
      "2007316.26\n"
     ]
    }
   ],
   "source": [
    "compound_interest(100000, 20, 0.15, 365)"
   ]
  },
  {
   "cell_type": "markdown",
   "id": "2270e994",
   "metadata": {},
   "source": [
    "# Question5\n",
    "#### Write a function that takes a list of elements and returns only the integers.\n",
    "#### Examples\n",
    "#### return_only_integer([9, 2, \"space\", \"car\", \"lion\", 16]) ➞ [9, 2, 16]\n",
    "\n",
    "#### return_only_integer([\"hello\", 81, \"basketball\", 123, \"fox\"]) ➞ [81, 123]\n",
    "\n",
    "#### return_only_integer([10, \"121\", 56, 20, \"car\", 3, \"lion\"]) ➞ [10, 56, 20, 3]\n",
    "\n",
    "#### return_only_integer([\"String\",  True,  3.3,  1]) ➞ [1]\n",
    "\n",
    "## Answer:"
   ]
  },
  {
   "cell_type": "code",
   "execution_count": 79,
   "id": "ce340c25",
   "metadata": {},
   "outputs": [],
   "source": [
    "def return_only_integer(input_list):\n",
    "    \n",
    "    result = []\n",
    "    \n",
    "    for i in input_list:\n",
    "        \n",
    "        if type(i) == int:\n",
    "            \n",
    "            result.append(i)\n",
    "            \n",
    "        else:\n",
    "            \n",
    "            continue\n",
    "            \n",
    "    return result"
   ]
  },
  {
   "cell_type": "code",
   "execution_count": 80,
   "id": "663bdecc",
   "metadata": {},
   "outputs": [
    {
     "data": {
      "text/plain": [
       "[9, 2, 16]"
      ]
     },
     "execution_count": 80,
     "metadata": {},
     "output_type": "execute_result"
    }
   ],
   "source": [
    "return_only_integer([9, 2, \"space\", \"car\", \"lion\", 16])"
   ]
  },
  {
   "cell_type": "code",
   "execution_count": 81,
   "id": "43216ec1",
   "metadata": {},
   "outputs": [
    {
     "data": {
      "text/plain": [
       "[81, 123]"
      ]
     },
     "execution_count": 81,
     "metadata": {},
     "output_type": "execute_result"
    }
   ],
   "source": [
    "return_only_integer([\"hello\", 81, \"basketball\", 123, \"fox\"])"
   ]
  },
  {
   "cell_type": "code",
   "execution_count": 82,
   "id": "c5e4c492",
   "metadata": {},
   "outputs": [
    {
     "data": {
      "text/plain": [
       "[10, 56, 20, 3]"
      ]
     },
     "execution_count": 82,
     "metadata": {},
     "output_type": "execute_result"
    }
   ],
   "source": [
    "return_only_integer([10, \"121\", 56, 20, \"car\", 3, \"lion\"])"
   ]
  },
  {
   "cell_type": "code",
   "execution_count": 83,
   "id": "a1848f59",
   "metadata": {},
   "outputs": [
    {
     "data": {
      "text/plain": [
       "[1]"
      ]
     },
     "execution_count": 83,
     "metadata": {},
     "output_type": "execute_result"
    }
   ],
   "source": [
    "return_only_integer([\"String\", True, 3.3, 1])"
   ]
  }
 ],
 "metadata": {
  "kernelspec": {
   "display_name": "Python 3",
   "language": "python",
   "name": "python3"
  },
  "language_info": {
   "codemirror_mode": {
    "name": "ipython",
    "version": 3
   },
   "file_extension": ".py",
   "mimetype": "text/x-python",
   "name": "python",
   "nbconvert_exporter": "python",
   "pygments_lexer": "ipython3",
   "version": "3.8.8"
  }
 },
 "nbformat": 4,
 "nbformat_minor": 5
}
