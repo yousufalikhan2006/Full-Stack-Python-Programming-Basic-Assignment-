{
 "cells": [
  {
   "cell_type": "markdown",
   "metadata": {},
   "source": [
    "# 1.\tWrite a Python Program to Display Fibonacci Sequence Using Recursion?\n",
    "\n",
    "## Answer:"
   ]
  },
  {
   "cell_type": "code",
   "execution_count": 4,
   "metadata": {},
   "outputs": [
    {
     "name": "stdout",
     "output_type": "stream",
     "text": [
      "Enter the number of terms to print Fibonacci: 25\n",
      "Fabonacci Series below: \n",
      "0 1 1 2 3 5 8 13 21 34 55 89 144 233 377 610 987 1597 2584 4181 6765 10946 17711 28657 46368 "
     ]
    }
   ],
   "source": [
    "def fibonacci_recur(n):\n",
    "    \n",
    "    if n <= 1:\n",
    "        \n",
    "        return n\n",
    "    \n",
    "    else:\n",
    "        \n",
    "        return (fibonacci_recur(n-1)+fibonacci_recur(n-2))\n",
    "    \n",
    "no_of_terms = int(input(\"Enter the number of terms to print Fibonacci: \"))\n",
    "\n",
    "if no_of_terms <=0:\n",
    "    \n",
    "    print(\"Enter the no of Terms greater than Zero\")\n",
    "    \n",
    "else:\n",
    "    \n",
    "    print(\"Fabonacci Series below: \")\n",
    "    \n",
    "    for i in range(no_of_terms):\n",
    "        \n",
    "        print(fibonacci_recur(i), end=\" \")"
   ]
  },
  {
   "cell_type": "markdown",
   "metadata": {},
   "source": [
    "# 2.\tWrite a Python Program to Find Factorial of Number Using Recursion?\n",
    "\n",
    "## Answer:"
   ]
  },
  {
   "cell_type": "code",
   "execution_count": 18,
   "metadata": {},
   "outputs": [
    {
     "name": "stdout",
     "output_type": "stream",
     "text": [
      "Enter the value number for which looking a factorial: 7\n",
      "The factorial of 7 is : 5040\n"
     ]
    }
   ],
   "source": [
    "def factorial_recur(n):\n",
    "    \n",
    "    if n == 0 or n == 1:\n",
    "        \n",
    "        return 1\n",
    "    \n",
    "    else:\n",
    "        \n",
    "        return n*factorial_recur(n-1)\n",
    "    \n",
    "number = int(input(\"Enter the value number for which looking a factorial: \"))\n",
    "\n",
    "if number<0:\n",
    "    \n",
    "    print(\"Enter a Number Greater Than Zero\")\n",
    "    \n",
    "else:\n",
    "    \n",
    "    print(\"The factorial of {0} is : {1}\".format(number, factorial_recur(number)))\n",
    "    \n",
    "    \n",
    "    "
   ]
  },
  {
   "cell_type": "markdown",
   "metadata": {},
   "source": [
    "# 3.\tWrite a Python Program to calculate your Body Mass Index?\n",
    "\n",
    "## Answer:"
   ]
  },
  {
   "cell_type": "markdown",
   "metadata": {},
   "source": [
    "#### For most adults, an ideal BMI is in the 18.5 to 24.9 range. For children and young people aged 2 to 18, the BMI calculation takes into account age and gender as well as height and weight. If your BMI is: below 18.5 – you're in the underweight range."
   ]
  },
  {
   "cell_type": "code",
   "execution_count": 4,
   "metadata": {},
   "outputs": [
    {
     "name": "stdout",
     "output_type": "stream",
     "text": [
      "Enter the Person's Weight(In Kilograms): 97\n",
      "Enter the Person's height(In Meters)   : 1.67\n",
      "Person BMI:  34.78073792534691\n",
      "Person is OBESE: Don't do Anything! God and Heaven Both are calling You!\n"
     ]
    }
   ],
   "source": [
    "weight = float(input(\"Enter the Person's Weight(In Kilograms): \"))\n",
    "height = float(input(\"Enter the Person's height(In Meters)   : \"))\n",
    "\n",
    "height_square = height**2\n",
    "\n",
    "bmi = weight/height_square\n",
    "\n",
    "print(\"Person BMI: \", bmi)\n",
    "\n",
    "if bmi < 18.5 :\n",
    "    \n",
    "    print(\"Person is Underweight: Don't Go to the GYM! Eat More!\")\n",
    "    \n",
    "elif 18.5 < bmi < 24.9 :\n",
    "    \n",
    "    print(\"Person is Normal: Chill Bro\")\n",
    "    \n",
    "elif 24.9 < bmi < 29.9 :\n",
    "    \n",
    "    print(\"Person is Overweigh: Don't Avoid GYM and Burn Extra calories! Else Be Ready for Heaven!\")\n",
    "    \n",
    "else:\n",
    "    \n",
    "    print(\"Person is OBESE: Don't do Anything! God and Heaven Both are calling You!\")"
   ]
  },
  {
   "cell_type": "markdown",
   "metadata": {},
   "source": [
    "# 4.\tWrite a Python Program to calculate the natural logarithm of any number?\n",
    "\n",
    "## Answer:"
   ]
  },
  {
   "cell_type": "code",
   "execution_count": 8,
   "metadata": {},
   "outputs": [
    {
     "name": "stdout",
     "output_type": "stream",
     "text": [
      "Enter the Number for which you which you are Looking a Natural Log: 7\n",
      "The Natural Log of 7 is: 1.9459101490553132\n"
     ]
    }
   ],
   "source": [
    "import math\n",
    "\n",
    "number = int(input(\"Enter the Number for which you which you are Looking a Natural Log: \"))\n",
    "\n",
    "if number < 1:\n",
    "    \n",
    "    print(\"Enter the number Greater Than Or Equal To 1\")\n",
    "    \n",
    "else:\n",
    "    \n",
    "    print(\"The Natural Log of {0} is: {1}\".format(number, math.log(number)))"
   ]
  },
  {
   "cell_type": "markdown",
   "metadata": {},
   "source": [
    "# 5.\tWrite a Python Program for cube sum of first n natural numbers?\n",
    "\n",
    "## Answer:"
   ]
  },
  {
   "cell_type": "code",
   "execution_count": 13,
   "metadata": {},
   "outputs": [
    {
     "name": "stdout",
     "output_type": "stream",
     "text": [
      "Enter the number till you are looking first natural Number: 50\n",
      "\n",
      "The Cube Sum of First 50 Natural Numbers is: 1625625\n"
     ]
    }
   ],
   "source": [
    "number = int(input(\"Enter the number till you are looking first natural Number: \"))\n",
    "\n",
    "sum_of_first_number = 0\n",
    "\n",
    "if number <= 0:\n",
    "    \n",
    "    print(\"Enter the Number Greater Than Zero\")\n",
    "    \n",
    "else:\n",
    "    \n",
    "    for i in range(1, number+1):\n",
    "        \n",
    "        sum_of_first_number +=i**3\n",
    "    \n",
    "    print(\"\\nThe Cube Sum of First {0} Natural Numbers is: {1}\".format(number,sum_of_first_number)) "
   ]
  }
 ],
 "metadata": {
  "kernelspec": {
   "display_name": "Python 3",
   "language": "python",
   "name": "python3"
  },
  "language_info": {
   "codemirror_mode": {
    "name": "ipython",
    "version": 3
   },
   "file_extension": ".py",
   "mimetype": "text/x-python",
   "name": "python",
   "nbconvert_exporter": "python",
   "pygments_lexer": "ipython3",
   "version": "3.7.3"
  }
 },
 "nbformat": 4,
 "nbformat_minor": 2
}
