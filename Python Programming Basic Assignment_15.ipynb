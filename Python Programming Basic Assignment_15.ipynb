{
 "cells": [
  {
   "cell_type": "markdown",
   "metadata": {},
   "source": [
    "# Question 1:\n",
    "#### Please write a program using generator to print the numbers which can be divisible by 5 and 7 between 0 and n in comma separated form while n is input by console.\n",
    "#### Example:\n",
    "#### If the following n is given as input to the program:\n",
    "#### 100\n",
    "#### Then, the output of the program should be:\n",
    "#### 0,35,70\n",
    "\n",
    "## Answer:"
   ]
  },
  {
   "cell_type": "code",
   "execution_count": 12,
   "metadata": {},
   "outputs": [],
   "source": [
    "def divby5and7(n):\n",
    "    \n",
    "    for num in range(n+1):\n",
    "        \n",
    "        if num%5 == 0 and num%7==0:\n",
    "            \n",
    "            yield num"
   ]
  },
  {
   "cell_type": "code",
   "execution_count": 13,
   "metadata": {},
   "outputs": [
    {
     "name": "stdout",
     "output_type": "stream",
     "text": [
      "0,35,70\n"
     ]
    }
   ],
   "source": [
    "gen = divby5and7(100)\n",
    "\n",
    "lst_num =[]\n",
    "\n",
    "for i in gen:\n",
    "    \n",
    "    lst_num.append(str(i))\n",
    "    \n",
    "print(','.join(lst_num))"
   ]
  },
  {
   "cell_type": "markdown",
   "metadata": {},
   "source": [
    "# Question 2:\n",
    "#### Please write a program using generator to print the even numbers between 0 and n in comma separated form while n is input by console.\n",
    "#### Example:\n",
    "#### If the following n is given as input to the program:\n",
    "#### 10\n",
    "#### Then, the output of the program should be:\n",
    "#### 0,2,4,6,8,10\n",
    "\n",
    "## Answer:"
   ]
  },
  {
   "cell_type": "code",
   "execution_count": 17,
   "metadata": {},
   "outputs": [],
   "source": [
    "def printeven():\n",
    "    \n",
    "    n = int(input(\"Enter the Valuen of n: \"))\n",
    "    \n",
    "    for num in range(n+1):\n",
    "        \n",
    "        if num%2 == 0:\n",
    "            \n",
    "            yield num"
   ]
  },
  {
   "cell_type": "code",
   "execution_count": 19,
   "metadata": {},
   "outputs": [
    {
     "name": "stdout",
     "output_type": "stream",
     "text": [
      "Enter the Valuen of n: 10\n",
      "Even Numbers are:  0,2,4,6,8,10\n"
     ]
    }
   ],
   "source": [
    "gen = printeven()\n",
    "\n",
    "lst_num =[]\n",
    "\n",
    "for i in gen:\n",
    "    \n",
    "    lst_num.append(str(i))\n",
    "    \n",
    "print(\"Even Numbers are: \", ','.join(lst_num))"
   ]
  },
  {
   "cell_type": "markdown",
   "metadata": {},
   "source": [
    "# Question 3:\n",
    "#### The Fibonacci Sequence is computed based on the following formula:\n",
    "#### f(n)=0 if n=0\n",
    "#### f(n)=1 if n=1\n",
    "#### f(n)=f(n-1)+f(n-2) if n>1\n",
    "#### Please write a program using list comprehension to print the Fibonacci Sequence in comma separated form with a given n input by console.\n",
    "#### Example:\n",
    "#### If the following n is given as input to the program:\n",
    "#### 7\n",
    "\n",
    "#### Then, the output of the program should be:\n",
    "#### 0,1,1,2,3,5,8,13\n",
    "\n",
    "## Answer:"
   ]
  },
  {
   "cell_type": "code",
   "execution_count": 33,
   "metadata": {},
   "outputs": [
    {
     "name": "stdout",
     "output_type": "stream",
     "text": [
      "Enter the value of n: 7\n",
      "0,1,1,2,3,5,8,13\n"
     ]
    }
   ],
   "source": [
    "n = int(input(\"Enter the value of n: \"))\n",
    "\n",
    "f = lambda num: 0 if num==0 else 1 if num==1 else f(num-1)+f(num-2)\n",
    "\n",
    "print(','.join([str(f(num)) for num in range(n+1)]))"
   ]
  },
  {
   "cell_type": "markdown",
   "metadata": {},
   "source": [
    "# Question 4:\n",
    "#### Assuming that we have some email addresses in the \"username@companyname.com\" format, please write program to print the user name of a given email address. Both user names and company names are composed of letters only.\n",
    "#### Example:\n",
    "#### If the following email address is given as input to the program:\n",
    "#### john@google.com\n",
    "#### Then, the output of the program should be:\n",
    "#### john\n",
    "\n",
    "## Answer:"
   ]
  },
  {
   "cell_type": "code",
   "execution_count": 38,
   "metadata": {},
   "outputs": [],
   "source": [
    "def email_address():\n",
    "    \n",
    "    email_id = str(input(\"Enter the Email_ID: \"))\n",
    "    \n",
    "    username = ''\n",
    "    \n",
    "    for char in email_id:\n",
    "        \n",
    "        if char == '@':\n",
    "            \n",
    "            break\n",
    "            \n",
    "        else:\n",
    "            \n",
    "            username += char\n",
    "            \n",
    "    print(\"Output: \", username)\n",
    "    "
   ]
  },
  {
   "cell_type": "code",
   "execution_count": 39,
   "metadata": {},
   "outputs": [
    {
     "name": "stdout",
     "output_type": "stream",
     "text": [
      "Enter the Email_ID: john@google.com\n",
      "Output:  john\n"
     ]
    }
   ],
   "source": [
    "email_address()"
   ]
  },
  {
   "cell_type": "markdown",
   "metadata": {},
   "source": [
    "# Question 5:\n",
    "Define a class named Shape and its subclass Square. The Square class has an init function which takes a length as argument. Both classes have a area function which can print the area of the shape where Shape's area is 0 by default.\n",
    "\n",
    "## Answer:"
   ]
  },
  {
   "cell_type": "code",
   "execution_count": 60,
   "metadata": {},
   "outputs": [],
   "source": [
    "class Shape:\n",
    "    \n",
    "    def __init__(self):\n",
    "        \n",
    "        pass\n",
    "    \n",
    "    def area(self):\n",
    "        \n",
    "        return 0\n",
    "    \n",
    "class Square(Shape):\n",
    "    \n",
    "    def __init__(self, length = 0):\n",
    "        \n",
    "        Shape.__init__(self)\n",
    "        \n",
    "        self.length = length\n",
    "        \n",
    "    def area(self):\n",
    "        \n",
    "        return self.length*self.length"
   ]
  },
  {
   "cell_type": "code",
   "execution_count": 61,
   "metadata": {},
   "outputs": [
    {
     "data": {
      "text/plain": [
       "9"
      ]
     },
     "execution_count": 61,
     "metadata": {},
     "output_type": "execute_result"
    }
   ],
   "source": [
    "obj1 = Square(3)\n",
    "obj1.area()"
   ]
  },
  {
   "cell_type": "code",
   "execution_count": 64,
   "metadata": {},
   "outputs": [
    {
     "name": "stdout",
     "output_type": "stream",
     "text": [
      "0\n"
     ]
    }
   ],
   "source": [
    "print(Square().area())"
   ]
  }
 ],
 "metadata": {
  "kernelspec": {
   "display_name": "Python 3",
   "language": "python",
   "name": "python3"
  },
  "language_info": {
   "codemirror_mode": {
    "name": "ipython",
    "version": 3
   },
   "file_extension": ".py",
   "mimetype": "text/x-python",
   "name": "python",
   "nbconvert_exporter": "python",
   "pygments_lexer": "ipython3",
   "version": "3.7.3"
  }
 },
 "nbformat": 4,
 "nbformat_minor": 2
}
