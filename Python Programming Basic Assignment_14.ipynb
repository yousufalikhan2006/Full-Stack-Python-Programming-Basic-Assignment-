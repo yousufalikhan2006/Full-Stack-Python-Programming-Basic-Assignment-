{
 "cells": [
  {
   "cell_type": "markdown",
   "metadata": {},
   "source": [
    "# Question 1:\n",
    "\n",
    "Define a class with a generator which can iterate the numbers, which are divisible by 7, between a given range 0 and n.\n",
    "\n",
    "## Answer:"
   ]
  },
  {
   "cell_type": "code",
   "execution_count": 11,
   "metadata": {},
   "outputs": [],
   "source": [
    "class generator:\n",
    "    \n",
    "    def __init__(self, n):\n",
    "        \n",
    "        self.n = n\n",
    "        \n",
    "    def divBySeven(self):\n",
    "        \n",
    "        for i in range(self.n):\n",
    "            \n",
    "            if i%7 == 0:\n",
    "                \n",
    "                yield i"
   ]
  },
  {
   "cell_type": "code",
   "execution_count": 16,
   "metadata": {},
   "outputs": [
    {
     "name": "stdout",
     "output_type": "stream",
     "text": [
      "Below are the Numbers which are divisible By 7: \n",
      "0,7,14,21,28,35,42,49,56,63,70,77,84,91,98,"
     ]
    }
   ],
   "source": [
    "gen = generator(100)\n",
    "\n",
    "print(\"Below are the Numbers which are divisible By 7: \")\n",
    "      \n",
    "for num in gen.divBySeven():\n",
    "    \n",
    "    print(num, end=',')"
   ]
  },
  {
   "cell_type": "markdown",
   "metadata": {},
   "source": [
    "# Question 2:\n",
    "Write a program to compute the frequency of the words from the input. The output should output after sorting the key alphanumerically. \n",
    "\n",
    "Suppose the following input is supplied to the program:\n",
    "\n",
    "New to Python or choosing between Python 2 and Python 3? Read Python 2 or Python 3.\n",
    "\n",
    "Then, the output should be:\n",
    "\n",
    "2:2\n",
    "\n",
    "3.:1\n",
    "\n",
    "3?:1\n",
    "\n",
    "New:1\n",
    "\n",
    "Python:5\n",
    "\n",
    "Read:1\n",
    "\n",
    "and:1\n",
    "\n",
    "between:1\n",
    "\n",
    "choosing:1\n",
    "\n",
    "or:2\n",
    "\n",
    "to:1\n",
    "\n",
    "## Answer:"
   ]
  },
  {
   "cell_type": "code",
   "execution_count": 21,
   "metadata": {},
   "outputs": [
    {
     "name": "stdout",
     "output_type": "stream",
     "text": [
      "Enter the words as an input: New to Python or choosing between Python 2 and Python 3? Read Python 2 or Python 3.\n",
      "\n",
      "The Output after sorting the key alphanumerically: \n",
      "\n",
      "2:2\n",
      "\n",
      "3.:1\n",
      "\n",
      "3?:1\n",
      "\n",
      "New:1\n",
      "\n",
      "Python:5\n",
      "\n",
      "Read:1\n",
      "\n",
      "and:1\n",
      "\n",
      "between:1\n",
      "\n",
      "choosing:1\n",
      "\n",
      "or:2\n",
      "\n",
      "to:1\n"
     ]
    }
   ],
   "source": [
    "words_input = str(input(\"Enter the words as an input: \"))\n",
    "\n",
    "words_lst = words_input.split(sep=' ')\n",
    "\n",
    "words_lst.sort()\n",
    "\n",
    "unique_word_lst = []\n",
    "\n",
    "for i in words_lst:\n",
    "    \n",
    "    if i not in unique_word_lst:\n",
    "        \n",
    "        unique_word_lst.append(i)\n",
    "    \n",
    "print(\"\\nThe Output after sorting the key alphanumerically: \")\n",
    "\n",
    "for word in unique_word_lst:\n",
    "    \n",
    "    freq = 0\n",
    "    \n",
    "    for j in words_lst:\n",
    "        \n",
    "        if word == j:\n",
    "            \n",
    "            freq +=1\n",
    "            \n",
    "    print(\"\\n\"+word+\":\"+str(freq))"
   ]
  },
  {
   "cell_type": "markdown",
   "metadata": {},
   "source": [
    "# Question 3:\n",
    "\n",
    "Define a class Person and its two child classes: Male and Female. All classes have a method \"getGender\" which can print \"Male\" for Male class and \"Female\" for Female class.\n",
    "\n",
    "## Answer:"
   ]
  },
  {
   "cell_type": "code",
   "execution_count": 25,
   "metadata": {},
   "outputs": [],
   "source": [
    "class Person:\n",
    "    \n",
    "    def getGender(self):\n",
    "        \n",
    "        return \"This is Person class\"\n",
    "    \n",
    "class Male(Person):\n",
    "    \n",
    "    def getGender(self):\n",
    "        \n",
    "        return \"Male\"\n",
    "    \n",
    "class Female(Person):\n",
    "    \n",
    "    def getGender(self):\n",
    "        \n",
    "        return \"Female\""
   ]
  },
  {
   "cell_type": "code",
   "execution_count": 27,
   "metadata": {},
   "outputs": [
    {
     "data": {
      "text/plain": [
       "'Male'"
      ]
     },
     "execution_count": 27,
     "metadata": {},
     "output_type": "execute_result"
    }
   ],
   "source": [
    "raka = Male()\n",
    "raka.getGender()"
   ]
  },
  {
   "cell_type": "code",
   "execution_count": 29,
   "metadata": {},
   "outputs": [
    {
     "data": {
      "text/plain": [
       "'Female'"
      ]
     },
     "execution_count": 29,
     "metadata": {},
     "output_type": "execute_result"
    }
   ],
   "source": [
    "saka = Female()\n",
    "saka.getGender()"
   ]
  },
  {
   "cell_type": "markdown",
   "metadata": {},
   "source": [
    "# Question 4:\n",
    "Please write a program to generate all sentences where subject is in [\"I\", \"You\"] and verb is in [\"Play\", \"Love\"] and the object is in [\"Hockey\",\"Football\"].\n",
    "\n",
    "## Answer:"
   ]
  },
  {
   "cell_type": "code",
   "execution_count": 34,
   "metadata": {},
   "outputs": [
    {
     "name": "stdout",
     "output_type": "stream",
     "text": [
      "All possible Sentences are as below: \n",
      "\n",
      "I Play Hockey\n",
      "\n",
      "I Play Football\n",
      "\n",
      "I Love Hockey\n",
      "\n",
      "I Love Football\n",
      "\n",
      "You Play Hockey\n",
      "\n",
      "You Play Football\n",
      "\n",
      "You Love Hockey\n",
      "\n",
      "You Love Football\n"
     ]
    }
   ],
   "source": [
    "subjects = [\"I\", \"You\"]\n",
    "verbs = [\"Play\", \"Love\"]\n",
    "objects = [\"Hockey\",\"Football\"]\n",
    "\n",
    "print(\"All possible Sentences are as below: \")\n",
    "for i in subjects:\n",
    "    \n",
    "    for j in verbs:\n",
    "        \n",
    "        for k in objects:\n",
    "            \n",
    "            print(\"\\n{0} {1} {2}\". format(i,j,k))"
   ]
  },
  {
   "cell_type": "markdown",
   "metadata": {},
   "source": [
    "# Question 5:\n",
    "Please write a program to compress and decompress the string \"hello world!hello world!hello world!hello world!\".\n",
    "\n",
    "## Answers:"
   ]
  },
  {
   "cell_type": "code",
   "execution_count": 39,
   "metadata": {},
   "outputs": [
    {
     "name": "stdout",
     "output_type": "stream",
     "text": [
      "b'x\\x9c\\xcbH\\xcd\\xc9\\xc9W(\\xcf/\\xcaIQ\\xcc \\x82\\r\\x00\\xbd[\\x11\\xf5'\n",
      "b'hello world!hello world!hello world!hello world!'\n"
     ]
    }
   ],
   "source": [
    "import zlib\n",
    "\n",
    "string = \"hello world!hello world!hello world!hello world!\"\n",
    "\n",
    "string_bytes = bytes(string, 'utf-8')\n",
    "\n",
    "temp = zlib.compress(string_bytes)\n",
    "\n",
    "print(temp)\n",
    "print(zlib.decompress(temp))"
   ]
  },
  {
   "cell_type": "markdown",
   "metadata": {},
   "source": [
    "# Question 6:\n",
    "Please write a binary search function which searches an item in a sorted list. The function should return the index of element to be searched in the list.\n",
    "\n",
    "## Answer:"
   ]
  },
  {
   "cell_type": "code",
   "execution_count": 41,
   "metadata": {},
   "outputs": [],
   "source": [
    "from bisect import bisect_left\n",
    "\n",
    "def binarySearch(lst, num):\n",
    "    \n",
    "    temp = bisect_left(lst, num)\n",
    "    \n",
    "    if temp != len(lst) and lst[temp] == num:\n",
    "        \n",
    "        return temp\n",
    "    \n",
    "    else:\n",
    "        \n",
    "        return -1"
   ]
  },
  {
   "cell_type": "code",
   "execution_count": 42,
   "metadata": {},
   "outputs": [
    {
     "name": "stdout",
     "output_type": "stream",
     "text": [
      "First occurrence of 9 is present at 6\n"
     ]
    }
   ],
   "source": [
    "lst = [1, 2, 5, 5, 7, 8, 9, 9]\n",
    "\n",
    "num = 9\n",
    "\n",
    "result = binarySearch(lst, num)\n",
    "\n",
    "if result == -1:\n",
    "    \n",
    "    print(str(num), \" is not present\")\n",
    "    \n",
    "else:\n",
    "    \n",
    "    print(\"First occurrence of\", num, \"is present at\" , result)"
   ]
  }
 ],
 "metadata": {
  "kernelspec": {
   "display_name": "Python 3",
   "language": "python",
   "name": "python3"
  },
  "language_info": {
   "codemirror_mode": {
    "name": "ipython",
    "version": 3
   },
   "file_extension": ".py",
   "mimetype": "text/x-python",
   "name": "python",
   "nbconvert_exporter": "python",
   "pygments_lexer": "ipython3",
   "version": "3.7.3"
  }
 },
 "nbformat": 4,
 "nbformat_minor": 2
}
