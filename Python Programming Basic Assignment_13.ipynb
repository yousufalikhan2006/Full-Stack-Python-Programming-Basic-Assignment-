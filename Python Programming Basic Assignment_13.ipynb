{
 "cells": [
  {
   "cell_type": "markdown",
   "id": "d79f4c9a",
   "metadata": {},
   "source": [
    "# Question 1:\n",
    "\n",
    "Write a program that calculates and prints the value according to the given formula:\n",
    "\n",
    "Q = Square root of [(2 * C * D)/H]\n",
    "\n",
    "Following are the fixed values of C and H:\n",
    "\n",
    "C is 50. H is 30.\n",
    "\n",
    "D is the variable whose values should be input to your program in a comma-separated sequence.\n",
    "\n",
    "Example\n",
    "\n",
    "Let us assume the following comma separated input sequence is given to the program:\n",
    "\n",
    "100,150,180\n",
    "\n",
    "The output of the program should be:\n",
    "\n",
    "18,22,24\n"
   ]
  },
  {
   "cell_type": "markdown",
   "id": "833e759f",
   "metadata": {},
   "source": [
    "## Answer:"
   ]
  },
  {
   "cell_type": "code",
   "execution_count": 12,
   "id": "ddc39167",
   "metadata": {},
   "outputs": [
    {
     "name": "stdout",
     "output_type": "stream",
     "text": [
      "Enter Input String: 100,150,180\n",
      "\n",
      "Output for Above mentioned String will be as below:  18,22,24\n"
     ]
    }
   ],
   "source": [
    "import math\n",
    "\n",
    "C, H = 50, 30\n",
    "\n",
    "Q_list = []\n",
    "\n",
    "num= str(input(\"Enter Input String: \"))\n",
    "\n",
    "for D in num.split(sep=','):\n",
    "    \n",
    "    p=(2 * C * int(D))/H\n",
    "    \n",
    "    Q = str(int(math.sqrt(p)))\n",
    "    \n",
    "    Q_list.append(Q)\n",
    "    \n",
    "print(\"\\nOutput for Above mentioned String will be as below: \", \",\".join(Q_list))    \n",
    "    \n",
    "    #print((Q), end =',')"
   ]
  },
  {
   "cell_type": "markdown",
   "id": "e4e52f8d",
   "metadata": {},
   "source": [
    "# Question 2:\n",
    "Write a program which takes 2 digits, X,Y as input and generates a 2-dimensional array. The element value in the i-th row and j-th column of the array should be i*j.\n",
    "\n",
    "Note: i=0,1.., X-1; j=0,1,¡¬Y-1.\n",
    "\n",
    "Example\n",
    "\n",
    "Suppose the following inputs are given to the program:\n",
    "\n",
    "3,5\n",
    "\n",
    "Then, the output of the program should be:\n",
    "\n",
    "[[0, 0, 0, 0, 0], [0, 1, 2, 3, 4], [0, 2, 4, 6, 8]] \n"
   ]
  },
  {
   "cell_type": "markdown",
   "id": "7c77ece6",
   "metadata": {},
   "source": [
    "## Answer:"
   ]
  },
  {
   "cell_type": "code",
   "execution_count": 52,
   "id": "5db6dfa7",
   "metadata": {},
   "outputs": [
    {
     "name": "stdout",
     "output_type": "stream",
     "text": [
      "Enter The Number Of Rows: 3\n",
      "Enter The Number Of Columns: 5\n",
      "The Two-D matrix Will be:  [[0, 0, 0, 0, 0], [0, 1, 2, 3, 4], [0, 2, 4, 6, 8]]\n"
     ]
    }
   ],
   "source": [
    "X = int(input(\"Enter The Number Of Rows: \"))\n",
    "Y = int(input(\"Enter The Number Of Columns: \"))\n",
    "\n",
    "matrix_2D = [[], [], []]\n",
    "\n",
    "for i in range(X):\n",
    "    \n",
    "    for j in range(Y):\n",
    "        \n",
    "        matrix_2D[i].append(i*j)\n",
    "        \n",
    "print(\"The Two-D matrix Will be: \", matrix_2D)"
   ]
  },
  {
   "cell_type": "markdown",
   "id": "482bbac5",
   "metadata": {},
   "source": [
    "# Question 3:\n",
    "Write a program that accepts a comma separated sequence of words as input and prints the words in a comma-separated sequence after sorting them alphabetically.\n",
    "\n",
    "Suppose the following input is supplied to the program:\n",
    "\n",
    "without,hello,bag,world\n",
    "\n",
    "Then, the output should be:\n",
    "\n",
    "bag,hello,without,world\n"
   ]
  },
  {
   "cell_type": "markdown",
   "id": "00a7544c",
   "metadata": {},
   "source": [
    "## Answer:"
   ]
  },
  {
   "cell_type": "code",
   "execution_count": 6,
   "id": "607bdc5f",
   "metadata": {},
   "outputs": [
    {
     "name": "stdout",
     "output_type": "stream",
     "text": [
      "Enter the comma separated sequence of words: without,hello,bag,world\n",
      "\n",
      "Words in a comma-separated sequence after sorting them alphabetically:  bag,hello,without,world\n"
     ]
    }
   ],
   "source": [
    "input_words = str(input(\"Enter the comma separated sequence of words: \"))\n",
    "\n",
    "st_lst =input_words.split(sep=',')\n",
    "\n",
    "st_lst.sort()\n",
    "\n",
    "print(\"\\nWords in a comma-separated sequence after sorting them alphabetically: \", \",\".join(st_lst))"
   ]
  },
  {
   "cell_type": "markdown",
   "id": "0fcf1c74",
   "metadata": {},
   "source": [
    "# Question 4:\n",
    "Write a program that accepts a sequence of whitespace separated words as input and prints the words after removing all duplicate words and sorting them alphanumerically.\n",
    "\n",
    "Suppose the following input is supplied to the program:\n",
    "\n",
    "hello world and practice makes perfect and hello world again\n",
    "\n",
    "Then, the output should be:\n",
    "\n",
    "again and hello makes perfect practice world\n"
   ]
  },
  {
   "cell_type": "markdown",
   "id": "7d37b397",
   "metadata": {},
   "source": [
    "## Answer:"
   ]
  },
  {
   "cell_type": "code",
   "execution_count": 17,
   "id": "340aae58",
   "metadata": {},
   "outputs": [
    {
     "name": "stdout",
     "output_type": "stream",
     "text": [
      "Enter the whitespace separated sequence of words: hello world and practice makes perfect and hello world again\n",
      "\n",
      "Words in a whitespace-separated after removing all duplicate words and sorting them alphabetically:  again and hello makes perfect practice world\n"
     ]
    }
   ],
   "source": [
    "input_words = str(input(\"Enter the whitespace separated sequence of words: \"))\n",
    "\n",
    "st_lst =input_words.split(sep=' ')\n",
    "\n",
    "unique_st_lst_words =[]\n",
    "\n",
    "for word in st_lst:\n",
    "    \n",
    "    if word not in unique_st_lst_words:\n",
    "        \n",
    "        unique_st_lst_words.append(word)\n",
    "        \n",
    "unique_st_lst_words.sort()\n",
    "\n",
    "print(\"\\nWords in a whitespace-separated after removing all duplicate words and sorting them alphabetically: \",\" \".join(unique_st_lst_words))"
   ]
  },
  {
   "cell_type": "markdown",
   "id": "560812e2",
   "metadata": {},
   "source": [
    "# Question 5:\n",
    "Write a program that accepts a sentence and calculate the number of letters and digits.\n",
    "\n",
    "Suppose the following input is supplied to the program:\n",
    "\n",
    "hello world! 123\n",
    "\n",
    "Then, the output should be:\n",
    "\n",
    "LETTERS 10\n",
    "\n",
    "DIGITS 3"
   ]
  },
  {
   "cell_type": "markdown",
   "id": "30d74511",
   "metadata": {},
   "source": [
    "## Answer:"
   ]
  },
  {
   "cell_type": "code",
   "execution_count": 37,
   "id": "43466230",
   "metadata": {},
   "outputs": [
    {
     "name": "stdout",
     "output_type": "stream",
     "text": [
      "Enter the Sentence: hello world! 123\n",
      "LETTERS  10\n",
      "DIGITS  3\n"
     ]
    }
   ],
   "source": [
    "import string\n",
    "\n",
    "alphabet_string = string.ascii_lowercase\n",
    "\n",
    "alphabet_list = list(alphabet_string)\n",
    "\n",
    "numbers_list = ['0', '1', '2', '3', '4', '5', '6', '7', '8', '9']\n",
    "\n",
    "LETTERS =0\n",
    "DIGITS =0\n",
    "\n",
    "input_sentence = str(input(\"Enter the Sentence: \"))\n",
    "\n",
    "for i in input_sentence:\n",
    "    \n",
    "    if i in alphabet_list:\n",
    "        \n",
    "        LETTERS +=1\n",
    "        \n",
    "    if i in numbers_list:\n",
    "        \n",
    "        DIGITS +=1\n",
    "        \n",
    "print(\"LETTERS \", LETTERS)\n",
    "print(\"DIGITS \", DIGITS)"
   ]
  },
  {
   "cell_type": "markdown",
   "id": "d86b4d11",
   "metadata": {},
   "source": [
    "# Question 6:\n",
    "A website requires the users to input username and password to register. Write a program to check the validity of password input by users.\n",
    "\n",
    "Following are the criteria for checking the password:\n",
    "\n",
    "1. At least 1 letter between [a-z]\n",
    "\n",
    "2. At least 1 number between [0-9]\n",
    "\n",
    "1. At least 1 letter between [A-Z]\n",
    "\n",
    "3. At least 1 character from [$#@]\n",
    "\n",
    "4. Minimum length of transaction password: 6\n",
    "\n",
    "5. Maximum length of transaction password: 12\n",
    "\n",
    "Your program should accept a sequence of comma separated passwords and will check them according to the above criteria. Passwords that match the criteria are to be printed, each separated by a comma.\n",
    "\n",
    "Example\n",
    "\n",
    "If the following passwords are given as input to the program:\n",
    "\n",
    "ABd1234@1,a F1#,2w3E*,2We3345\n",
    "\n",
    "Then, the output of the program should be:\n",
    "\n",
    "ABd1234@1\n"
   ]
  },
  {
   "cell_type": "code",
   "execution_count": 11,
   "id": "1ac7e895",
   "metadata": {},
   "outputs": [
    {
     "name": "stdout",
     "output_type": "stream",
     "text": [
      "Type in: ABd1234@1,a F1#,2w3E*,2We3345\n",
      "ABd1234@1\n"
     ]
    }
   ],
   "source": [
    "import re\n",
    "\n",
    "passwords = input(\"Type in: \")\n",
    "passwords = passwords.split(\",\")\n",
    "\n",
    "accepted_pass = []\n",
    "for i in passwords:\n",
    "    \n",
    "    if len(i) < 6 or len(i) > 12:\n",
    "        continue\n",
    "\n",
    "    elif not re.search(\"([a-z])+\", i):\n",
    "        continue\n",
    "        \n",
    "    elif not re.search(\"([0-9])+\", i):\n",
    "        continue\n",
    "\n",
    "    elif not re.search(\"([A-Z])+\", i):\n",
    "        continue\n",
    "\n",
    "    elif not re.search(\"([$#@])+\", i):\n",
    "        continue\n",
    "\n",
    "    else:\n",
    "        accepted_pass.append(i)\n",
    "\n",
    "print((\" \").join(accepted_pass))"
   ]
  }
 ],
 "metadata": {
  "kernelspec": {
   "display_name": "Python 3",
   "language": "python",
   "name": "python3"
  },
  "language_info": {
   "codemirror_mode": {
    "name": "ipython",
    "version": 3
   },
   "file_extension": ".py",
   "mimetype": "text/x-python",
   "name": "python",
   "nbconvert_exporter": "python",
   "pygments_lexer": "ipython3",
   "version": "3.8.8"
  }
 },
 "nbformat": 4,
 "nbformat_minor": 5
}
