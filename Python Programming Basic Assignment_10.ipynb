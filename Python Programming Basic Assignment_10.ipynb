{
 "cells": [
  {
   "cell_type": "markdown",
   "metadata": {},
   "source": [
    "# 1.\tWrite a Python program to find sum of elements in list?\n",
    "\n",
    "## ANswer:"
   ]
  },
  {
   "cell_type": "code",
   "execution_count": 12,
   "metadata": {},
   "outputs": [
    {
     "name": "stdout",
     "output_type": "stream",
     "text": [
      "Sum of Elements in the list will be:  22\n"
     ]
    }
   ],
   "source": [
    "input_list = [1,5,7,9]\n",
    "\n",
    "sum_of_elements = 0\n",
    "\n",
    "for i in range(len(input_list)):\n",
    "    \n",
    "    sum_of_elements = sum_of_elements + input_list[i]\n",
    "    \n",
    "print(\"Sum of Elements in the list will be: \", sum_of_elements)"
   ]
  },
  {
   "cell_type": "markdown",
   "metadata": {},
   "source": [
    "# 2.\tWrite a Python program to  Multiply all numbers in the list?\n",
    "\n",
    "## Answer:"
   ]
  },
  {
   "cell_type": "code",
   "execution_count": 18,
   "metadata": {},
   "outputs": [
    {
     "name": "stdout",
     "output_type": "stream",
     "text": [
      "Sum of Elements in the list will be:  30\n"
     ]
    }
   ],
   "source": [
    "input_list = [1,2,3,5]\n",
    "\n",
    "multiplication_of_elements = 1\n",
    "\n",
    "for i in range(len(input_list)):\n",
    "    \n",
    "    multiplication_of_elements *= input_list[i]\n",
    "    \n",
    "print(\"Sum of Elements in the list will be: \", multiplication_of_elements)"
   ]
  },
  {
   "cell_type": "markdown",
   "metadata": {},
   "source": [
    "# 3.\tWrite a Python program to find smallest number in a list?\n",
    "\n",
    "## Answer:"
   ]
  },
  {
   "cell_type": "code",
   "execution_count": 30,
   "metadata": {},
   "outputs": [
    {
     "name": "stdout",
     "output_type": "stream",
     "text": [
      "The smallest number in the given list is:  3\n"
     ]
    }
   ],
   "source": [
    "input_list = [40,30,3,22,34,69,5]\n",
    "\n",
    "temp = input_list[0]\n",
    "\n",
    "for i in range(1, len(input_list)):\n",
    "    \n",
    "    if temp > input_list[i]:\n",
    "        \n",
    "        temp = input_list[i]\n",
    "        \n",
    "    else:\n",
    "        \n",
    "        pass\n",
    "    \n",
    "print(\"The smallest number in the given list is: \",temp)       "
   ]
  },
  {
   "cell_type": "markdown",
   "metadata": {},
   "source": [
    "# 4.\tWrite a Python program to find largest number in a list?\n",
    "\n",
    "## Answer:"
   ]
  },
  {
   "cell_type": "code",
   "execution_count": 32,
   "metadata": {},
   "outputs": [
    {
     "name": "stdout",
     "output_type": "stream",
     "text": [
      "The Largest number in the given list is:  90\n"
     ]
    }
   ],
   "source": [
    "input_list = [40,30,3,22,34,69,5,90]\n",
    "\n",
    "temp = input_list[0]\n",
    "\n",
    "for i in range(1, len(input_list)):\n",
    "    \n",
    "    if temp < input_list[i]:\n",
    "        \n",
    "        temp = input_list[i]\n",
    "        \n",
    "    else:\n",
    "        \n",
    "        pass\n",
    "    \n",
    "print(\"The Largest number in the given list is: \",temp)"
   ]
  },
  {
   "cell_type": "markdown",
   "metadata": {},
   "source": [
    "# 5.\tWrite a Python program to find second largest number in a list?\n",
    "\n",
    "## Answer:"
   ]
  },
  {
   "cell_type": "code",
   "execution_count": 35,
   "metadata": {},
   "outputs": [
    {
     "name": "stdout",
     "output_type": "stream",
     "text": [
      "The second lasgest number will be:  89\n"
     ]
    }
   ],
   "source": [
    "input_list = [40,30,3,22,34,69,5,90,89]\n",
    "\n",
    "input_list.sort()\n",
    "\n",
    "print(\"The second lasgest number will be: \", input_list[-2])"
   ]
  },
  {
   "cell_type": "markdown",
   "metadata": {},
   "source": [
    "# 6.\tWrite a Python program to find N largest elements from a list?\n",
    "\n",
    "## Answer:"
   ]
  },
  {
   "cell_type": "code",
   "execution_count": 48,
   "metadata": {},
   "outputs": [
    {
     "name": "stdout",
     "output_type": "stream",
     "text": [
      "The N=3 larget numbers in the string will be: \n",
      "90 89 88 "
     ]
    }
   ],
   "source": [
    "input_list = [40,30,3,22,34,69,5,90,89,86,82,88]\n",
    "\n",
    "#input_list = [40,30]\n",
    "\n",
    "#input_list = [40,30,3]\n",
    "\n",
    "N = 3 # 3 largest elements in the list\n",
    "\n",
    "if len(input_list) < 3:\n",
    "    \n",
    "    print(\"Enter the list containing atleast 3 Elements\")\n",
    "    \n",
    "elif len(input_list) == 3:\n",
    "    \n",
    "    input_list.sort()\n",
    "    \n",
    "    print(\"The N=3 larget numbers in the string will be: \")\n",
    "    \n",
    "    for i in input_list[-1::-1]:\n",
    "        \n",
    "        print(i, end = ' ')\n",
    "    \n",
    "else:\n",
    "    \n",
    "    input_list.sort()\n",
    "    \n",
    "    print(\"The N=3 larget numbers in the string will be: \")\n",
    "    \n",
    "    for i in input_list[-1:-4:-1]:\n",
    "        \n",
    "        print(i, end = ' ')"
   ]
  },
  {
   "cell_type": "markdown",
   "metadata": {},
   "source": [
    "# 7.\tWrite a Python program to print even numbers in a list?\n",
    "\n",
    "## Answer:"
   ]
  },
  {
   "cell_type": "code",
   "execution_count": 53,
   "metadata": {},
   "outputs": [
    {
     "name": "stdout",
     "output_type": "stream",
     "text": [
      "The Even Numbers from provided list are mentioned below: \n",
      "40 30 22 34 90 86 82 88 "
     ]
    }
   ],
   "source": [
    "input_list = [40,30,3,22,34,69,5,90,89,86,82,88]\n",
    "\n",
    "print(\"The Even Numbers from provided list are mentioned below: \")\n",
    "\n",
    "for num in input_list:\n",
    "    \n",
    "    if num%2 == 0:\n",
    "        \n",
    "        print(num, end =' ')"
   ]
  },
  {
   "cell_type": "markdown",
   "metadata": {},
   "source": [
    "# 8.\tWrite a Python program to print odd numbers in a List?\n",
    "\n",
    "## Answer:"
   ]
  },
  {
   "cell_type": "code",
   "execution_count": 54,
   "metadata": {},
   "outputs": [
    {
     "name": "stdout",
     "output_type": "stream",
     "text": [
      "The Odd Numbers from provided list are mentioned below: \n",
      "3 69 5 89 "
     ]
    }
   ],
   "source": [
    "input_list = [40,30,3,22,34,69,5,90,89,86,82,88]\n",
    "\n",
    "print(\"The Odd Numbers from provided list are mentioned below: \")\n",
    "\n",
    "for num in input_list:\n",
    "    \n",
    "    if num%2 != 0:\n",
    "        \n",
    "        print(num, end =' ')"
   ]
  },
  {
   "cell_type": "markdown",
   "metadata": {},
   "source": [
    "# 9.\tWrite a Python program to Remove empty List from List?\n",
    "\n",
    "## Answer:"
   ]
  },
  {
   "cell_type": "code",
   "execution_count": 57,
   "metadata": {},
   "outputs": [
    {
     "name": "stdout",
     "output_type": "stream",
     "text": [
      "List without empty list:  [[1, 2, 3], [4, 5, 6], [7, 8, 9]]\n"
     ]
    }
   ],
   "source": [
    "list_of_lists = [[], [1,2,3], [], [4,5,6], [], [7,8,9]]\n",
    "\n",
    "list_without_empty_list = []\n",
    "\n",
    "for i in range(len(list_of_lists)):\n",
    "    \n",
    "    if len(list_of_lists[i]) == 0:\n",
    "        \n",
    "        pass\n",
    "    \n",
    "    else:\n",
    "        \n",
    "        list_without_empty_list.append(list_of_lists[i])\n",
    "        \n",
    "print(\"List without empty list: \",list_without_empty_list)"
   ]
  },
  {
   "cell_type": "markdown",
   "metadata": {},
   "source": [
    "# 10.\tWrite a Python program to Cloning or Copying a list?\n",
    "\n",
    "## Answer:"
   ]
  },
  {
   "cell_type": "code",
   "execution_count": 58,
   "metadata": {},
   "outputs": [
    {
     "name": "stdout",
     "output_type": "stream",
     "text": [
      "Copy of Input List will be:  [40, 30, 3, 22, 34, 69, 5, 90, 89, 86, 82, 88]\n"
     ]
    }
   ],
   "source": [
    "input_list = [40,30,3,22,34,69,5,90,89,86,82,88]\n",
    "\n",
    "copy_input_list = []\n",
    "\n",
    "for i in range(len(input_list)):\n",
    "    \n",
    "    copy_input_list.append(input_list[i])\n",
    "    \n",
    "print(\"Copy of Input List will be: \", copy_input_list)"
   ]
  },
  {
   "cell_type": "markdown",
   "metadata": {},
   "source": [
    "# 11.\tWrite a Python program to Count occurrences of an element in a list?\n",
    "\n",
    "## Answer:"
   ]
  },
  {
   "cell_type": "code",
   "execution_count": 72,
   "metadata": {},
   "outputs": [
    {
     "name": "stdout",
     "output_type": "stream",
     "text": [
      "The number of occurrences for a number 40 eual to: 2\n",
      "The number of occurrences for a number 30 eual to: 2\n",
      "The number of occurrences for a number 3 eual to: 2\n",
      "The number of occurrences for a number 22 eual to: 2\n",
      "The number of occurrences for a number 34 eual to: 2\n",
      "The number of occurrences for a number 69 eual to: 2\n",
      "The number of occurrences for a number 5 eual to: 2\n",
      "The number of occurrences for a number 90 eual to: 2\n",
      "The number of occurrences for a number 89 eual to: 2\n",
      "The number of occurrences for a number 86 eual to: 1\n",
      "The number of occurrences for a number 82 eual to: 1\n",
      "The number of occurrences for a number 88 eual to: 1\n"
     ]
    }
   ],
   "source": [
    "#input_list = [1,2,3,4,5,1,2,3,4,1,2,3,1,2,1]\n",
    "\n",
    "input_list = [40,30,3,22,34,69,5,90,89,86,82,88, 40,30,3,22,34,69,5,90,89]\n",
    "\n",
    "unique_number_list = []\n",
    "\n",
    "for i in range(len(input_list)):\n",
    "    \n",
    "    if input_list[i] not in unique_number_list:\n",
    "        \n",
    "        unique_number_list.append(input_list[i])\n",
    "        \n",
    "for j in range(len(unique_number_list)):\n",
    "    \n",
    "    counter = 0\n",
    "    \n",
    "    for k in input_list:\n",
    "        \n",
    "        if unique_number_list[j] == k:\n",
    "            \n",
    "            counter += 1\n",
    "            \n",
    "    print(\"The number of occurrences for a number {0} eual to: {1}\".format(unique_number_list[j], counter))"
   ]
  }
 ],
 "metadata": {
  "kernelspec": {
   "display_name": "Python 3",
   "language": "python",
   "name": "python3"
  },
  "language_info": {
   "codemirror_mode": {
    "name": "ipython",
    "version": 3
   },
   "file_extension": ".py",
   "mimetype": "text/x-python",
   "name": "python",
   "nbconvert_exporter": "python",
   "pygments_lexer": "ipython3",
   "version": "3.7.3"
  }
 },
 "nbformat": 4,
 "nbformat_minor": 2
}
