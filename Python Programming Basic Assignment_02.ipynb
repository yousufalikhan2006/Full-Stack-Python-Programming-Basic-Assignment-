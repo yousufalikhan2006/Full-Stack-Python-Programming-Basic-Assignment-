{
 "cells": [
  {
   "cell_type": "markdown",
   "metadata": {},
   "source": [
    "# 1.\tWrite a Python program to convert kilometers to miles?\n",
    "\n",
    "## Answer:"
   ]
  },
  {
   "cell_type": "code",
   "execution_count": 2,
   "metadata": {},
   "outputs": [
    {
     "name": "stdout",
     "output_type": "stream",
     "text": [
      "31.0685\n"
     ]
    }
   ],
   "source": [
    "kilometer = 50\n",
    "\n",
    "# 1 mile = 0.62137 kilometer\n",
    "\n",
    "Miles = kilometer * 0.62137\n",
    "\n",
    "print(Miles)\n"
   ]
  },
  {
   "cell_type": "markdown",
   "metadata": {},
   "source": [
    "# 2.\tWrite a Python program to convert Celsius to Fahrenheit?\n",
    "\n",
    "## Answer:"
   ]
  },
  {
   "cell_type": "code",
   "execution_count": 5,
   "metadata": {},
   "outputs": [
    {
     "name": "stdout",
     "output_type": "stream",
     "text": [
      "98.60000000000001\n"
     ]
    }
   ],
   "source": [
    "celcius = 37\n",
    "\n",
    "fahrenheit = (9/5)*celcius +32\n",
    "\n",
    "print(fahrenheit)"
   ]
  },
  {
   "cell_type": "markdown",
   "metadata": {},
   "source": [
    "# 3.\tWrite a Python program to display calendar?\n",
    "\n",
    "## Answer:"
   ]
  },
  {
   "cell_type": "code",
   "execution_count": 7,
   "metadata": {},
   "outputs": [],
   "source": [
    "import calendar"
   ]
  },
  {
   "cell_type": "code",
   "execution_count": 13,
   "metadata": {},
   "outputs": [
    {
     "name": "stdout",
     "output_type": "stream",
     "text": [
      "Eneter the Year: 2021\n",
      "Enter the Month: 07\n"
     ]
    }
   ],
   "source": [
    "year = int(input(\"Eneter the Year: \"))\n",
    "\n",
    "month = int(input(\"Enter the Month: \"))"
   ]
  },
  {
   "cell_type": "code",
   "execution_count": 14,
   "metadata": {},
   "outputs": [
    {
     "name": "stdout",
     "output_type": "stream",
     "text": [
      "     July 2021\n",
      "Mo Tu We Th Fr Sa Su\n",
      "          1  2  3  4\n",
      " 5  6  7  8  9 10 11\n",
      "12 13 14 15 16 17 18\n",
      "19 20 21 22 23 24 25\n",
      "26 27 28 29 30 31\n",
      "\n"
     ]
    }
   ],
   "source": [
    "print(calendar.month(year, month))"
   ]
  },
  {
   "cell_type": "markdown",
   "metadata": {},
   "source": [
    "# 4.\tWrite a Python program to solve quadratic equation?\n",
    "\n",
    "## Answer:"
   ]
  },
  {
   "cell_type": "code",
   "execution_count": 22,
   "metadata": {},
   "outputs": [
    {
     "name": "stdout",
     "output_type": "stream",
     "text": [
      "Enter the value of a: 9\n",
      "Enter the value of b: 15\n",
      "Enter the value of c: 3\n",
      "The value of root1 And root2 are (-0.23240812075600173+0j), (-1.434258545910665+0j)\n"
     ]
    }
   ],
   "source": [
    "import cmath\n",
    "# Suppose the quadratic equation as 9(X*X)+15X+3=0\n",
    "\n",
    "a = int(input(\"Enter the value of a: \"))\n",
    "b = int(input(\"Enter the value of b: \"))\n",
    "c = int(input(\"Enter the value of c: \"))\n",
    "\n",
    "d = (b*b)-(4*a*c)\n",
    "# We do have two roots(value of x) of any quadratic equation i.e. [-b+sqrt(d)]/2*a & [-b-sqrt(d)]/2*a\n",
    "\n",
    "root1 = (-b+(cmath.sqrt(d)))/(2*a)\n",
    "root2 = (-b-(cmath.sqrt(d)))/(2*a)\n",
    "\n",
    "print(\"The value of root1 And root2 are {0}, {1}\".format(root1, root2))"
   ]
  },
  {
   "cell_type": "markdown",
   "metadata": {},
   "source": [
    "# 5.\tWrite a Python program to swap two variables without temp variable?\n",
    "\n",
    "## Answer:"
   ]
  },
  {
   "cell_type": "code",
   "execution_count": 25,
   "metadata": {},
   "outputs": [
    {
     "name": "stdout",
     "output_type": "stream",
     "text": [
      "Enter the value of 'a' before SWAP: 12\n",
      "Enter the value of 'b' before SWAP: 4\n",
      "The values of 'a' , 'b' Post Swap are 4 and 12\n"
     ]
    }
   ],
   "source": [
    "a = int(input(\"Enter the value of 'a' before SWAP: \"))\n",
    "b = int(input(\"Enter the value of 'b' before SWAP: \"))\n",
    "\n",
    "a = a + b\n",
    "\n",
    "b = a - b\n",
    "\n",
    "a = a - b\n",
    "\n",
    "print(\"The values of 'a' , 'b' Post Swap are {0} and {1}\".format(a, b))"
   ]
  }
 ],
 "metadata": {
  "kernelspec": {
   "display_name": "Python 3",
   "language": "python",
   "name": "python3"
  },
  "language_info": {
   "codemirror_mode": {
    "name": "ipython",
    "version": 3
   },
   "file_extension": ".py",
   "mimetype": "text/x-python",
   "name": "python",
   "nbconvert_exporter": "python",
   "pygments_lexer": "ipython3",
   "version": "3.7.3"
  }
 },
 "nbformat": 4,
 "nbformat_minor": 2
}
