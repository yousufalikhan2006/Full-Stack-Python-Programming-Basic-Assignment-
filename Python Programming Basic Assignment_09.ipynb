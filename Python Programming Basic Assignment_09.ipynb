{
 "cells": [
  {
   "cell_type": "markdown",
   "id": "b15cf539",
   "metadata": {},
   "source": [
    "# 1.\tWrite a Python program to check if the given number is a Disarium Number?\n",
    "\n",
    "## Answer:"
   ]
  },
  {
   "cell_type": "markdown",
   "id": "535ede26",
   "metadata": {},
   "source": [
    "#### A disarium number is a number in which the sum of the digits to the power of their respective position is equal to the number itself (position is counted from left to right starting from 1)."
   ]
  },
  {
   "cell_type": "code",
   "execution_count": 2,
   "id": "64c9e520",
   "metadata": {},
   "outputs": [
    {
     "name": "stdout",
     "output_type": "stream",
     "text": [
      "Input Any Number To Check Whether Its Disarium Or Not: 175\n",
      "175 is a DISARIUM Number.\n"
     ]
    }
   ],
   "source": [
    "check_disarium = int(input(\"Input Any Number To Check Whether Its Disarium Or Not: \"))\n",
    "\n",
    "temp_list =list()\n",
    "\n",
    "num = check_disarium\n",
    "\n",
    "sum_of_power = 0\n",
    "\n",
    "while num > 0:\n",
    "        \n",
    "    temp_list.insert(0, num%10)\n",
    "    \n",
    "    num = num//10\n",
    "    \n",
    "for i in range(0, len(temp_list)):\n",
    "    \n",
    "    sum_of_power += temp_list[i]**(i+1)\n",
    "    \n",
    "if check_disarium == sum_of_power:\n",
    "    \n",
    "    print(\"{} is a DISARIUM Number.\".format(check_disarium))\n",
    "    \n",
    "else:\n",
    "    \n",
    "    print(\"{} is NOT a DISARIUM Number.\".format(check_disarium))"
   ]
  },
  {
   "cell_type": "markdown",
   "id": "c7c1d711",
   "metadata": {},
   "source": [
    "# 2.\tWrite a Python program to print all disarium numbers between 1 to 100?\n",
    "\n",
    "## Answer:"
   ]
  },
  {
   "cell_type": "code",
   "execution_count": 3,
   "id": "b4d1a6da",
   "metadata": {},
   "outputs": [
    {
     "name": "stdout",
     "output_type": "stream",
     "text": [
      "1 is a DISARIUM Number.\n",
      "2 is a DISARIUM Number.\n",
      "3 is a DISARIUM Number.\n",
      "4 is a DISARIUM Number.\n",
      "5 is a DISARIUM Number.\n",
      "6 is a DISARIUM Number.\n",
      "7 is a DISARIUM Number.\n",
      "8 is a DISARIUM Number.\n",
      "9 is a DISARIUM Number.\n",
      "89 is a DISARIUM Number.\n"
     ]
    }
   ],
   "source": [
    "for num in range(1, 101):\n",
    "    \n",
    "    temp_list =list()\n",
    "    check_disarium = num\n",
    "    sum_of_power = 0\n",
    "    \n",
    "    while num > 0:\n",
    "        \n",
    "        temp_list.insert(0, num%10)\n",
    "        num = num//10\n",
    "        \n",
    "    for i in range(0, len(temp_list)):\n",
    "        \n",
    "        sum_of_power += temp_list[i]**(i+1)\n",
    "        \n",
    "    if check_disarium == sum_of_power:\n",
    "        \n",
    "        print(\"{} is a DISARIUM Number.\".format(check_disarium))\n",
    "        \n",
    "    #else:\n",
    "        \n",
    "        #print(\"{} is NOT a DISARIUM Number.\".format(check_disarium))"
   ]
  },
  {
   "cell_type": "markdown",
   "id": "a48240f8",
   "metadata": {},
   "source": [
    "# 3.\tWrite a Python program to check if the given number is Happy Number?\n",
    "\n",
    "## Answer:"
   ]
  },
  {
   "cell_type": "code",
   "execution_count": 17,
   "id": "2d50034e",
   "metadata": {},
   "outputs": [
    {
     "name": "stdout",
     "output_type": "stream",
     "text": [
      "Enter the Number to check whether its a Happy Or Not: 13\n",
      "13 is a happy number\n"
     ]
    }
   ],
   "source": [
    "def isHappy(n):    \n",
    "    r = s = 0;    \n",
    "    while(n > 0):    \n",
    "        r = n%10    \n",
    "        s += r**2  \n",
    "        n //= 10    \n",
    "    return s  \n",
    "        \n",
    "n = int(input(\"Enter the Number to check whether its a Happy Or Not: \"))    \n",
    "res = n   \n",
    "     \n",
    "while(res != 1 and res != 4):    \n",
    "    res = isHappy(res)    \n",
    "     \n",
    "if(res == 1):    \n",
    "    print(\"{} is a happy number\".format(n))\n",
    "elif(res == 4):    \n",
    "    print(\"{} is NOT a happy number\".format(n)) "
   ]
  },
  {
   "cell_type": "markdown",
   "id": "482d97f1",
   "metadata": {},
   "source": [
    "# 4.\tWrite a Python program to print all happy numbers between 1 and 100?\n",
    "\n",
    "## Answer:"
   ]
  },
  {
   "cell_type": "code",
   "execution_count": 16,
   "id": "521772f7",
   "metadata": {},
   "outputs": [
    {
     "name": "stdout",
     "output_type": "stream",
     "text": [
      "1: is happy number\n",
      "7: is happy number\n",
      "10: is happy number\n",
      "13: is happy number\n",
      "19: is happy number\n",
      "23: is happy number\n",
      "28: is happy number\n",
      "31: is happy number\n",
      "32: is happy number\n",
      "44: is happy number\n",
      "49: is happy number\n",
      "68: is happy number\n",
      "70: is happy number\n",
      "79: is happy number\n",
      "82: is happy number\n",
      "86: is happy number\n",
      "91: is happy number\n",
      "94: is happy number\n",
      "97: is happy number\n",
      "100: is happy number\n"
     ]
    }
   ],
   "source": [
    "def isHappy(n):    \n",
    "    r = s = 0;    \n",
    "    while(n > 0):    \n",
    "        r = n%10    \n",
    "        s += r**2  \n",
    "        n //= 10    \n",
    "    return s  \n",
    "        \n",
    "for i in range(1,101):\n",
    "    \n",
    "    res = i\n",
    "    \n",
    "    while(res != 1 and res != 4):\n",
    "        \n",
    "        res = isHappy(res)\n",
    "        \n",
    "    if(res == 1):\n",
    "        \n",
    "        print(str(i) + \": is happy number\")\n",
    "        \n",
    "    elif(res == 4):\n",
    "        pass\n",
    "        #print(str(i) + \": is NOT a happy number\")"
   ]
  },
  {
   "cell_type": "markdown",
   "id": "4ac427ad",
   "metadata": {},
   "source": [
    "# 5.\tWrite a Python program to determine whether the given number is a Harshad Number?\n",
    "\n",
    "## Answer:"
   ]
  },
  {
   "cell_type": "markdown",
   "id": "d7ea46ae",
   "metadata": {},
   "source": [
    "### If a number is divisible by the sum of its digits, then it will be known as a Harshad Number."
   ]
  },
  {
   "cell_type": "code",
   "execution_count": 21,
   "id": "76a145fb",
   "metadata": {},
   "outputs": [
    {
     "name": "stdout",
     "output_type": "stream",
     "text": [
      "Enter the Number to verify whether it's a HARSHAD Or Not: 120\n",
      "120 is a HARSHAD Number.\n"
     ]
    }
   ],
   "source": [
    "harshad_number = int(input(\"Enter the Number to verify whether it's a HARSHAD Or Not: \"))\n",
    "\n",
    "num = harshad_number\n",
    "\n",
    "sum_digits = 0\n",
    "\n",
    "while num > 0:\n",
    "    \n",
    "    sum_digits += (num%10)\n",
    "    \n",
    "    num //=10\n",
    "    \n",
    "if harshad_number%sum_digits == 0:\n",
    "    \n",
    "    print(\"{} is a HARSHAD Number.\".format(harshad_number))\n",
    "    \n",
    "else:\n",
    "    \n",
    "    print(\"{} is NOT a HARSHAD Number.\".format(harshad_number))"
   ]
  },
  {
   "cell_type": "markdown",
   "id": "455c5975",
   "metadata": {},
   "source": [
    "# 6.\tWrite a Python program to print all pronic numbers between 1 and 100?\n",
    "\n",
    "## Answer:"
   ]
  },
  {
   "cell_type": "markdown",
   "id": "c8793a08",
   "metadata": {},
   "source": [
    "### The pronic number is a product of two consecutive integers of the form: n(n+1)."
   ]
  },
  {
   "cell_type": "markdown",
   "id": "12a90f4a",
   "metadata": {},
   "source": [
    "# 1st Method"
   ]
  },
  {
   "cell_type": "code",
   "execution_count": 37,
   "id": "1bb8a269",
   "metadata": {},
   "outputs": [
    {
     "name": "stdout",
     "output_type": "stream",
     "text": [
      "2 is a Pronic Number\n",
      "6 is a Pronic Number\n",
      "12 is a Pronic Number\n",
      "20 is a Pronic Number\n",
      "30 is a Pronic Number\n",
      "42 is a Pronic Number\n",
      "56 is a Pronic Number\n",
      "72 is a Pronic Number\n",
      "90 is a Pronic Number\n"
     ]
    }
   ],
   "source": [
    "def check_pronic(num):\n",
    "    \n",
    "    pronic_num = num\n",
    "    \n",
    "    flag = False\n",
    "    \n",
    "    for i in range(1, num+1):\n",
    "        \n",
    "        if i*(i+1)==pronic_num:\n",
    "            \n",
    "            flag = True\n",
    "            \n",
    "            break\n",
    "            \n",
    "    return flag\n",
    "            \n",
    "for j in range(1, 101):\n",
    "    \n",
    "    if check_pronic(j):\n",
    "        \n",
    "        print(\"{} is a Pronic Number\".format(j))"
   ]
  },
  {
   "cell_type": "markdown",
   "id": "6956b4bd",
   "metadata": {},
   "source": [
    "# 2nd Method"
   ]
  },
  {
   "cell_type": "code",
   "execution_count": 32,
   "id": "feca2ffd",
   "metadata": {},
   "outputs": [
    {
     "name": "stdout",
     "output_type": "stream",
     "text": [
      "2 is a Pronic Number\n",
      "6 is a Pronic Number\n",
      "12 is a Pronic Number\n",
      "20 is a Pronic Number\n",
      "30 is a Pronic Number\n",
      "42 is a Pronic Number\n",
      "56 is a Pronic Number\n",
      "72 is a Pronic Number\n",
      "90 is a Pronic Number\n"
     ]
    }
   ],
   "source": [
    "for i in range(1, 100):\n",
    "    \n",
    "    pronic_num = i\n",
    "    \n",
    "    for j in range(1, pronic_num+1):\n",
    "        \n",
    "        if j*(j+1)==pronic_num:\n",
    "            \n",
    "            print(\"{} is a Pronic Number\".format(pronic_num))\n",
    "            \n",
    "            break"
   ]
  }
 ],
 "metadata": {
  "kernelspec": {
   "display_name": "Python 3",
   "language": "python",
   "name": "python3"
  },
  "language_info": {
   "codemirror_mode": {
    "name": "ipython",
    "version": 3
   },
   "file_extension": ".py",
   "mimetype": "text/x-python",
   "name": "python",
   "nbconvert_exporter": "python",
   "pygments_lexer": "ipython3",
   "version": "3.8.8"
  }
 },
 "nbformat": 4,
 "nbformat_minor": 5
}
