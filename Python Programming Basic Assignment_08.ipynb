{
 "cells": [
  {
   "cell_type": "markdown",
   "id": "c5bb8c62",
   "metadata": {},
   "source": [
    "# 1.\tWrite a Python Program to Add Two Matrices?\n",
    "\n",
    "## Answer:"
   ]
  },
  {
   "cell_type": "code",
   "execution_count": 12,
   "id": "d5f47ec7",
   "metadata": {},
   "outputs": [
    {
     "data": {
      "text/plain": [
       "[[8, 10, 12], [8, 10, 12], [8, 10, 12]]"
      ]
     },
     "execution_count": 12,
     "metadata": {},
     "output_type": "execute_result"
    }
   ],
   "source": [
    "matrix1 = [[1,2,3], [4,5,6], [7,8,9]]\n",
    "matrix2 = [[7,8,9], [4,5,6], [1,2,3]]\n",
    "\n",
    "final_matrix = [[0,0,0], [0,0,0],[0,0,0]]\n",
    "\n",
    "for i in range(len(matrix1)):\n",
    "    \n",
    "    for j in range(len(matrix1[0])):\n",
    "        \n",
    "        final_matrix[i][j]= matrix1[i][j] + matrix2[i][j]\n",
    "        \n",
    "final_matrix\n",
    "        "
   ]
  },
  {
   "cell_type": "markdown",
   "id": "93be08d7",
   "metadata": {},
   "source": [
    "# 2.\tWrite a Python Program to Multiply Two Matrices?\n",
    "\n",
    "## Answer:"
   ]
  },
  {
   "cell_type": "code",
   "execution_count": 2,
   "id": "1e26d62c",
   "metadata": {},
   "outputs": [
    {
     "name": "stdout",
     "output_type": "stream",
     "text": [
      "[[18, 24, 30, 6], [54, 69, 84, 15], [90, 114, 138, 24]]\n"
     ]
    }
   ],
   "source": [
    "matrix1 = [[1,2,3], \n",
    "           [4,5,6], \n",
    "           [7,8,9]]\n",
    "matrix2 = [[7,8,9,1], \n",
    "           [4,5,6,1], \n",
    "           [1,2,3,1]]\n",
    "\n",
    "final_matrix = [[0,0,0,0], \n",
    "                [0,0,0,0],\n",
    "                [0,0,0,0]]\n",
    "\n",
    "for i in range(len(matrix1)):\n",
    "    \n",
    "    for j in range(len(matrix2[0])):\n",
    "        \n",
    "        for k in range(len(matrix2)):\n",
    "            \n",
    "            final_matrix[i][j] += matrix1[i][k] * matrix2[k][j]\n",
    "            \n",
    "print(final_matrix)"
   ]
  },
  {
   "cell_type": "markdown",
   "id": "a5376456",
   "metadata": {},
   "source": [
    "# 3.\tWrite a Python Program to Transpose a Matrix?\n",
    "\n",
    "## Answer:"
   ]
  },
  {
   "cell_type": "code",
   "execution_count": 5,
   "id": "8366df0c",
   "metadata": {},
   "outputs": [
    {
     "name": "stdout",
     "output_type": "stream",
     "text": [
      "Transpose of Matrix [[1, 2, 3, 20], [4, 5, 6, 20], [7, 8, 9, 20]] will be: [[1, 4, 7], [2, 5, 8], [3, 6, 9], [20, 20, 20]]\n"
     ]
    }
   ],
   "source": [
    "matrix = [[1,2,3,20],\n",
    "          [4,5,6,20],\n",
    "          [7,8,9,20]]\n",
    "\n",
    "transpose_matrix = [[0,0,0],\n",
    "                    [0,0,0],\n",
    "                    [0,0,0],\n",
    "                    [0,0,0]]\n",
    "\n",
    "for i in range(len(matrix)):\n",
    "    \n",
    "    for j in range(len(matrix[0])):\n",
    "        \n",
    "        transpose_matrix[j][i] = matrix[i][j]\n",
    "        \n",
    "print(\"Transpose of Matrix {0} will be: {1}\".format(matrix, transpose_matrix))"
   ]
  },
  {
   "cell_type": "markdown",
   "id": "1ede3f6e",
   "metadata": {},
   "source": [
    "# 4.\tWrite a Python Program to Sort Words in Alphabetic Order?\n",
    "\n",
    "## Answer:"
   ]
  },
  {
   "cell_type": "code",
   "execution_count": 39,
   "id": "5d56cd13",
   "metadata": {},
   "outputs": [
    {
     "name": "stdout",
     "output_type": "stream",
     "text": [
      "Enter the string of words which needs to be sorted: this is A Full stack course\n",
      "Sorted words in ascending order are: \n",
      "a\n",
      "course\n",
      "full\n",
      "is\n",
      "stack\n",
      "this\n"
     ]
    }
   ],
   "source": [
    "input_string = str(input(\"Enter the string of words which needs to be sorted: \"))\n",
    "\n",
    "lst = [i.lower() for i in input_string.split()]\n",
    "\n",
    "lst.sort()\n",
    "\n",
    "print(\"Sorted words in ascending order are: \")\n",
    "for word in lst:\n",
    "    \n",
    "    print(word)"
   ]
  },
  {
   "cell_type": "markdown",
   "id": "88c387f2",
   "metadata": {},
   "source": [
    "# 5.\tWrite a Python Program to Remove Punctuation From a String?\n",
    "\n",
    "## Answer:"
   ]
  },
  {
   "cell_type": "code",
   "execution_count": 42,
   "id": "19bddc30",
   "metadata": {},
   "outputs": [
    {
     "name": "stdout",
     "output_type": "stream",
     "text": [
      "Enter the strings of words which may have punctuations: this is(_ i~Neuro<n c.ompany\n",
      "String without punctuations will be:  this is iNeuron company\n"
     ]
    }
   ],
   "source": [
    "punctuations = '''!()-[]{};:'\"\\,<>./?@#$%^&*_~'''\n",
    "\n",
    "input_string = str(input(\"Enter the strings of words which may have punctuations: \"))\n",
    "\n",
    "without_punctuation=str()\n",
    "\n",
    "for i in input_string:\n",
    "    \n",
    "    if i not in punctuations:\n",
    "        \n",
    "        without_punctuation = without_punctuation + i\n",
    "        \n",
    "print(\"String without punctuations will be: \", without_punctuation)"
   ]
  }
 ],
 "metadata": {
  "kernelspec": {
   "display_name": "Python 3",
   "language": "python",
   "name": "python3"
  },
  "language_info": {
   "codemirror_mode": {
    "name": "ipython",
    "version": 3
   },
   "file_extension": ".py",
   "mimetype": "text/x-python",
   "name": "python",
   "nbconvert_exporter": "python",
   "pygments_lexer": "ipython3",
   "version": "3.8.8"
  }
 },
 "nbformat": 4,
 "nbformat_minor": 5
}
