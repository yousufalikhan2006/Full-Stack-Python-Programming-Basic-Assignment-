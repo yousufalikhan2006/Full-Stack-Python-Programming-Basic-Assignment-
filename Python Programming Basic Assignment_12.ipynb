{
 "cells": [
  {
   "cell_type": "markdown",
   "id": "b77fa43e",
   "metadata": {},
   "source": [
    "# 1.\tWrite a Python program to Extract Unique values dictionary values?\n",
    "\n",
    "## Answer:"
   ]
  },
  {
   "cell_type": "code",
   "execution_count": 12,
   "id": "cc3135d2",
   "metadata": {},
   "outputs": [
    {
     "name": "stdout",
     "output_type": "stream",
     "text": [
      "Actual Dictionary is: {'a': [1, 2, 3, 4], 'b': [3, 4, 5, 6], 'c': [5, 6, 7, 8], 'd': [7, 8, 9, 0]}\n",
      "Unique Values in Above Mentioned String are: \n",
      "0 1 2 3 4 5 6 7 8 9 "
     ]
    }
   ],
   "source": [
    "dic = {'a': [1,2,3,4], 'b': [3,4,5,6], 'c': [5,6,7,8], 'd': [7,8,9,0]}\n",
    "\n",
    "dic_values = list()\n",
    "\n",
    "for i in dic.values():\n",
    "    \n",
    "    for j in i:\n",
    "        \n",
    "        if j not in dic_values:\n",
    "            \n",
    "            dic_values.append(j)\n",
    "            \n",
    "print(\"Actual Dictionary is: \" + str(dic))\n",
    "dic_values.sort()\n",
    "print(\"Unique Values in Above Mentioned String are: \")\n",
    "\n",
    "for num in dic_values:\n",
    "    \n",
    "    print(num, end =' ')"
   ]
  },
  {
   "cell_type": "markdown",
   "id": "0ff1d030",
   "metadata": {},
   "source": [
    "# 2.\tWrite a Python program to find the sum of all items in a dictionary?\n",
    "\n",
    "## Answer:"
   ]
  },
  {
   "cell_type": "code",
   "execution_count": 19,
   "id": "6762e301",
   "metadata": {},
   "outputs": [
    {
     "name": "stdout",
     "output_type": "stream",
     "text": [
      "The Sume of values in Key 'a' is : 10\n",
      "The Sume of values in Key 'b' is : 18\n",
      "The Sume of values in Key 'c' is : 26\n",
      "The Sume of values in Key 'd' is : 24\n"
     ]
    }
   ],
   "source": [
    "dic = {'a': [1,2,3,4], 'b': [3,4,5,6], 'c': [5,6,7,8], 'd': [7,8,9,0]}\n",
    "\n",
    "dic_values = list()\n",
    "\n",
    "for key, value in dic.items():\n",
    "    \n",
    "    value_sum = 0\n",
    "    \n",
    "    for num in value:\n",
    "        \n",
    "        value_sum += num\n",
    "        \n",
    "    print(\"The Sume of values in Key '{0}' is : {1}\".format(key, value_sum))"
   ]
  },
  {
   "cell_type": "markdown",
   "id": "ec949aa7",
   "metadata": {},
   "source": [
    "# 3.\tWrite a Python program to Merging two Dictionaries?\n",
    "\n",
    "## Answer:"
   ]
  },
  {
   "cell_type": "code",
   "execution_count": 22,
   "id": "ce85abbb",
   "metadata": {},
   "outputs": [],
   "source": [
    "def merge_dic(dic1, dic2):\n",
    "    \n",
    "    merged_dict ={**dic1, **dic2}\n",
    "    \n",
    "    return merged_dict"
   ]
  },
  {
   "cell_type": "code",
   "execution_count": 23,
   "id": "20be101a",
   "metadata": {},
   "outputs": [
    {
     "data": {
      "text/plain": [
       "{'a': [1, 2, 3, 4], 'b': [3, 4, 5, 6], 'c': [5, 6, 7, 8], 'd': [7, 8, 9, 0]}"
      ]
     },
     "execution_count": 23,
     "metadata": {},
     "output_type": "execute_result"
    }
   ],
   "source": [
    "dic1 = {'a': [1,2,3,4], 'b': [3,4,5,6]}\n",
    "dic2 = {'c': [5,6,7,8], 'd': [7,8,9,0]}\n",
    "\n",
    "merge_dic(dic1, dic2)"
   ]
  },
  {
   "cell_type": "markdown",
   "id": "72f6ec4d",
   "metadata": {},
   "source": [
    "# 4.\tWrite a Python program to convert key-values list to flat dictionary?\n",
    "\n",
    "## Answer:"
   ]
  },
  {
   "cell_type": "code",
   "execution_count": 46,
   "id": "5584f7cb",
   "metadata": {},
   "outputs": [
    {
     "name": "stdout",
     "output_type": "stream",
     "text": [
      "Converted key-values list to flat dictionary will be:  {'A': 1, 'B': 2, 'C': 3, 'D': 4}\n"
     ]
    }
   ],
   "source": [
    "dictionary = {'k' : ['A', 'B', 'C', 'D'],\n",
    "              'v' : [1, 2, 3, 4] }\n",
    "\n",
    "final_dic = dict(zip(dictionary['k'], dictionary['v']))\n",
    "\n",
    "print(\"Converted key-values list to flat dictionary will be: \", final_dic)"
   ]
  },
  {
   "cell_type": "markdown",
   "id": "2e7b2d09",
   "metadata": {},
   "source": [
    "# 5.\tWrite a Python program to insertion at the beginning in OrderedDict?\n",
    "\n",
    "## Answer:"
   ]
  },
  {
   "cell_type": "code",
   "execution_count": 7,
   "id": "23c1d68f",
   "metadata": {},
   "outputs": [
    {
     "name": "stdout",
     "output_type": "stream",
     "text": [
      "Dictionary after inserting at the beginning in OrderedDict:  OrderedDict([('c', 56), ('A', 12), ('B', 34)])\n"
     ]
    }
   ],
   "source": [
    "from collections import OrderedDict\n",
    "\n",
    "init_ord_dict = OrderedDict([('A', 12), ('B', 34)])\n",
    "\n",
    "init_ord_dict.update({'c': 56})\n",
    "\n",
    "init_ord_dict.move_to_end('c', last = False)\n",
    "\n",
    "print(\"Dictionary after inserting at the beginning in OrderedDict: \", init_ord_dict)"
   ]
  },
  {
   "cell_type": "markdown",
   "id": "fc8ff2f8",
   "metadata": {},
   "source": [
    "# 6.\tWrite a Python program to check order of character in string using OrderedDict()?\n",
    "\n",
    "## Answer:"
   ]
  },
  {
   "cell_type": "code",
   "execution_count": 12,
   "id": "747cd50b",
   "metadata": {},
   "outputs": [],
   "source": [
    "from collections import OrderedDict \n",
    "  \n",
    "def checkOrder(input, pattern):\n",
    "    \n",
    "    dict = OrderedDict.fromkeys(input)  \n",
    "    ptrlen = 0\n",
    "    for key,value in dict.items(): \n",
    "        if (key == pattern[ptrlen]): \n",
    "            ptrlen = ptrlen + 1\n",
    "\n",
    "        if (ptrlen == (len(pattern))): \n",
    "            return 'true'\n",
    "        \n",
    "    return 'false'"
   ]
  },
  {
   "cell_type": "code",
   "execution_count": 13,
   "id": "55fac495",
   "metadata": {},
   "outputs": [
    {
     "name": "stdout",
     "output_type": "stream",
     "text": [
      "true\n"
     ]
    }
   ],
   "source": [
    "if __name__ == \"__main__\": \n",
    "    input = 'engineers rock'\n",
    "    pattern = 'egr'\n",
    "    print (checkOrder(input,pattern))"
   ]
  },
  {
   "cell_type": "markdown",
   "id": "aa4488fe",
   "metadata": {},
   "source": [
    "# 7.\tWrite a Python program to sort Python Dictionaries by Key or Value?\n",
    "\n",
    "## Answer:"
   ]
  },
  {
   "cell_type": "code",
   "execution_count": 58,
   "id": "e801343f",
   "metadata": {},
   "outputs": [
    {
     "name": "stdout",
     "output_type": "stream",
     "text": [
      "Sorted Python Dictionary by 'Key' will be: \n",
      "(1, 2) (2, 56) (3, 323) (4, 24) (5, 12) (6, 18) \n",
      "\n",
      "Sorted Python Dictionary by 'Value' will be: \n",
      "[(1, 2), (5, 12), (6, 18), (4, 24), (2, 56), (3, 323)]\n"
     ]
    }
   ],
   "source": [
    "key_value ={}\n",
    "\n",
    "key_value[2] = 56      \n",
    "key_value[1] = 2\n",
    "key_value[5] = 12\n",
    "key_value[4] = 24\n",
    "key_value[6] = 18     \n",
    "key_value[3] = 323\n",
    "\n",
    "print(\"Sorted Python Dictionary by 'Key' will be: \")\n",
    "\n",
    "for i in sorted(key_value):\n",
    "    \n",
    "    print ((i, key_value[i]), end =\" \")\n",
    "    \n",
    "print(\"\\n\\nSorted Python Dictionary by 'Value' will be: \")\n",
    "\n",
    "print(sorted(key_value.items(), key = lambda kv:(kv[1], kv[0])))"
   ]
  }
 ],
 "metadata": {
  "kernelspec": {
   "display_name": "Python 3",
   "language": "python",
   "name": "python3"
  },
  "language_info": {
   "codemirror_mode": {
    "name": "ipython",
    "version": 3
   },
   "file_extension": ".py",
   "mimetype": "text/x-python",
   "name": "python",
   "nbconvert_exporter": "python",
   "pygments_lexer": "ipython3",
   "version": "3.8.8"
  }
 },
 "nbformat": 4,
 "nbformat_minor": 5
}
