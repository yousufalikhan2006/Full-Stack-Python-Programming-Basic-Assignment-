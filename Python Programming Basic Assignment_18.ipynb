{
 "cells": [
  {
   "cell_type": "markdown",
   "id": "b2f3b588",
   "metadata": {},
   "source": [
    "# Question 1\n",
    "#### Create a function that takes a list of non-negative integers and strings and return a new list without the strings.\n",
    "#### Examples\n",
    "#### filter_list([1, 2, \"a\", \"b\"]) ➞ [1, 2]\n",
    "\n",
    "#### filter_list([1, \"a\", \"b\", 0, 15]) ➞ [1, 0, 15]\n",
    "\n",
    "#### filter_list([1, 2, \"aasf\", \"1\", \"123\", 123]) ➞ [1, 2, 123]\n",
    "\n",
    "## Answer:"
   ]
  },
  {
   "cell_type": "code",
   "execution_count": 1,
   "id": "50fd011f",
   "metadata": {},
   "outputs": [],
   "source": [
    "def filter_list(list_input):\n",
    "    \n",
    "    output_list=[]\n",
    "    \n",
    "    for i in list_input:\n",
    "        \n",
    "        if type(i) != str:\n",
    "            \n",
    "            output_list.append(i)\n",
    "            \n",
    "        else:\n",
    "            \n",
    "            continue\n",
    "            \n",
    "    return output_list"
   ]
  },
  {
   "cell_type": "code",
   "execution_count": 2,
   "id": "e11b9a58",
   "metadata": {},
   "outputs": [
    {
     "data": {
      "text/plain": [
       "[1, 2]"
      ]
     },
     "execution_count": 2,
     "metadata": {},
     "output_type": "execute_result"
    }
   ],
   "source": [
    "filter_list([1, 2, \"a\", \"b\"])"
   ]
  },
  {
   "cell_type": "code",
   "execution_count": 3,
   "id": "f54c2a09",
   "metadata": {},
   "outputs": [
    {
     "data": {
      "text/plain": [
       "[1, 0, 15]"
      ]
     },
     "execution_count": 3,
     "metadata": {},
     "output_type": "execute_result"
    }
   ],
   "source": [
    "filter_list([1, \"a\", \"b\", 0, 15])"
   ]
  },
  {
   "cell_type": "code",
   "execution_count": 4,
   "id": "d1dc03bc",
   "metadata": {},
   "outputs": [
    {
     "data": {
      "text/plain": [
       "[1, 2, 123]"
      ]
     },
     "execution_count": 4,
     "metadata": {},
     "output_type": "execute_result"
    }
   ],
   "source": [
    "filter_list([1, 2, \"aasf\", \"1\", \"123\", 123])"
   ]
  },
  {
   "cell_type": "markdown",
   "id": "d2dc8200",
   "metadata": {},
   "source": [
    "# Question 2\n",
    "#### The \"Reverser\" takes a string as input and returns that string in reverse order, with the opposite case.\n",
    "#### Examples\n",
    "#### reverse(\"Hello World\") ➞ \"DLROw OLLEh\"\n",
    "\n",
    "#### reverse(\"ReVeRsE\") ➞ \"eSrEvEr\"\n",
    "\n",
    "#### reverse(\"Radar\") ➞ \"RADAr\"\n",
    "\n",
    "## Answer:"
   ]
  },
  {
   "cell_type": "code",
   "execution_count": 10,
   "id": "39e9ab2e",
   "metadata": {},
   "outputs": [],
   "source": [
    "def reverse(input_string):\n",
    "    \n",
    "    output_string =''\n",
    "    \n",
    "    for i in input_string[::-1]:\n",
    "        \n",
    "        if i.isupper():\n",
    "            \n",
    "            output_string += i.lower()\n",
    "            \n",
    "        elif i.islower():\n",
    "            \n",
    "            output_string += i.upper()\n",
    "            \n",
    "        else:\n",
    "            \n",
    "            output_string += i\n",
    "    \n",
    "    return output_string"
   ]
  },
  {
   "cell_type": "code",
   "execution_count": 11,
   "id": "419fca24",
   "metadata": {},
   "outputs": [
    {
     "data": {
      "text/plain": [
       "'DLROw OLLEh'"
      ]
     },
     "execution_count": 11,
     "metadata": {},
     "output_type": "execute_result"
    }
   ],
   "source": [
    "reverse(\"Hello World\")"
   ]
  },
  {
   "cell_type": "code",
   "execution_count": 12,
   "id": "0810072f",
   "metadata": {},
   "outputs": [
    {
     "data": {
      "text/plain": [
       "'eSrEvEr'"
      ]
     },
     "execution_count": 12,
     "metadata": {},
     "output_type": "execute_result"
    }
   ],
   "source": [
    "reverse(\"ReVeRsE\")"
   ]
  },
  {
   "cell_type": "code",
   "execution_count": 13,
   "id": "35f8bcba",
   "metadata": {},
   "outputs": [
    {
     "data": {
      "text/plain": [
       "'RADAr'"
      ]
     },
     "execution_count": 13,
     "metadata": {},
     "output_type": "execute_result"
    }
   ],
   "source": [
    "reverse(\"Radar\")"
   ]
  },
  {
   "cell_type": "markdown",
   "id": "7774fd89",
   "metadata": {},
   "source": [
    "# Question 3\n",
    "#### You can assign variables from lists like this:\n",
    "#### lst = [1, 2, 3, 4, 5, 6]\n",
    "#### first = lst[0]\n",
    "#### middle = lst[1:-1]\n",
    "#### last = lst[-1]\n",
    "\n",
    "#### print(first) ➞ outputs 1\n",
    "#### print(middle) ➞ outputs [2, 3, 4, 5]\n",
    "#### print(last) ➞ outputs 6\n",
    "#### With Python 3, you can assign variables from lists in a much more succinct way. Create variables first, middle and last from the given list using destructuring assignment (check the Resources tab for some examples), where:\n",
    "#### first  ➞ 1\n",
    "\n",
    "#### middle ➞ [2, 3, 4, 5]\n",
    "\n",
    "#### last ➞ 6\n",
    "#### Your task is to unpack the list writeyourcodehere into three variables, being first, middle, and last, with middle being everything in between the first and last element. Then print all three variables.\n",
    "\n",
    "## Answer:"
   ]
  },
  {
   "cell_type": "code",
   "execution_count": 18,
   "id": "c1a8410f",
   "metadata": {},
   "outputs": [],
   "source": [
    "lst =[1,2,3,4,5,6]\n",
    "\n",
    "first, middle, last = lst[0], lst[1:-1], lst[-1]"
   ]
  },
  {
   "cell_type": "code",
   "execution_count": 19,
   "id": "2359d23d",
   "metadata": {},
   "outputs": [
    {
     "data": {
      "text/plain": [
       "1"
      ]
     },
     "execution_count": 19,
     "metadata": {},
     "output_type": "execute_result"
    }
   ],
   "source": [
    "first"
   ]
  },
  {
   "cell_type": "code",
   "execution_count": 20,
   "id": "5184cc7c",
   "metadata": {},
   "outputs": [
    {
     "data": {
      "text/plain": [
       "[2, 3, 4, 5]"
      ]
     },
     "execution_count": 20,
     "metadata": {},
     "output_type": "execute_result"
    }
   ],
   "source": [
    "middle"
   ]
  },
  {
   "cell_type": "code",
   "execution_count": 21,
   "id": "e7d9a86d",
   "metadata": {},
   "outputs": [
    {
     "data": {
      "text/plain": [
       "6"
      ]
     },
     "execution_count": 21,
     "metadata": {},
     "output_type": "execute_result"
    }
   ],
   "source": [
    "last"
   ]
  },
  {
   "cell_type": "markdown",
   "id": "dcc89dde",
   "metadata": {},
   "source": [
    "# Question 4\n",
    "#### Write a function that calculates the factorial of a number recursively.\n",
    "#### Examples\n",
    "#### factorial(5) ➞ 120\n",
    "\n",
    "#### factorial(3) ➞ 6\n",
    "\n",
    "#### factorial(1) ➞ 1\n",
    "\n",
    "#### factorial(0) ➞ 1\n",
    "\n",
    "## Answer:"
   ]
  },
  {
   "cell_type": "code",
   "execution_count": 29,
   "id": "8b183590",
   "metadata": {},
   "outputs": [],
   "source": [
    "def factorial(num):\n",
    "    \n",
    "    if num == 0 or num == 1:\n",
    "        \n",
    "        return 1\n",
    "    \n",
    "    else:\n",
    "        \n",
    "        return num*factorial(num-1)"
   ]
  },
  {
   "cell_type": "code",
   "execution_count": 30,
   "id": "87b190cb",
   "metadata": {},
   "outputs": [
    {
     "data": {
      "text/plain": [
       "120"
      ]
     },
     "execution_count": 30,
     "metadata": {},
     "output_type": "execute_result"
    }
   ],
   "source": [
    "factorial(5)"
   ]
  },
  {
   "cell_type": "code",
   "execution_count": 31,
   "id": "4d7c46a3",
   "metadata": {},
   "outputs": [
    {
     "data": {
      "text/plain": [
       "6"
      ]
     },
     "execution_count": 31,
     "metadata": {},
     "output_type": "execute_result"
    }
   ],
   "source": [
    "factorial(3)"
   ]
  },
  {
   "cell_type": "code",
   "execution_count": 32,
   "id": "e482f7f8",
   "metadata": {},
   "outputs": [
    {
     "data": {
      "text/plain": [
       "1"
      ]
     },
     "execution_count": 32,
     "metadata": {},
     "output_type": "execute_result"
    }
   ],
   "source": [
    "factorial(1)"
   ]
  },
  {
   "cell_type": "code",
   "execution_count": 33,
   "id": "309511b0",
   "metadata": {},
   "outputs": [
    {
     "data": {
      "text/plain": [
       "1"
      ]
     },
     "execution_count": 33,
     "metadata": {},
     "output_type": "execute_result"
    }
   ],
   "source": [
    "factorial(0)"
   ]
  },
  {
   "cell_type": "markdown",
   "id": "63e804c4",
   "metadata": {},
   "source": [
    "# Question 5\n",
    "#### Write a function that moves all elements of one type to the end of the list.\n",
    "#### Examples\n",
    "#### move_to_end([1, 3, 2, 4, 4, 1], 1) ➞ [3, 2, 4, 4, 1, 1]\n",
    "# Move all the 1s to the end of the array.\n",
    "\n",
    "#### move_to_end([7, 8, 9, 1, 2, 3, 4], 9) ➞ [7, 8, 1, 2, 3, 4, 9]\n",
    "\n",
    "#### move_to_end([\"a\", \"a\", \"a\", \"b\"], \"a\") ➞ [\"b\", \"a\", \"a\", \"a\"]\n",
    "\n",
    "## Answer:"
   ]
  },
  {
   "cell_type": "code",
   "execution_count": 35,
   "id": "99ce1dd1",
   "metadata": {},
   "outputs": [],
   "source": [
    "def move_to_end(inpt_list, element):\n",
    "    \n",
    "    end =[]\n",
    "    \n",
    "    final_list =[]\n",
    "    \n",
    "    for i in inpt_list:\n",
    "        \n",
    "        if i==element:\n",
    "            \n",
    "            end.append(i)\n",
    "            \n",
    "        else:\n",
    "            \n",
    "            final_list.append(i)\n",
    "            \n",
    "    final_list += end\n",
    "    \n",
    "    return final_list"
   ]
  },
  {
   "cell_type": "code",
   "execution_count": 36,
   "id": "f133b66a",
   "metadata": {},
   "outputs": [
    {
     "data": {
      "text/plain": [
       "[3, 2, 4, 4, 1, 1]"
      ]
     },
     "execution_count": 36,
     "metadata": {},
     "output_type": "execute_result"
    }
   ],
   "source": [
    "move_to_end([1, 3, 2, 4, 4, 1], 1)"
   ]
  },
  {
   "cell_type": "code",
   "execution_count": 37,
   "id": "a5288d52",
   "metadata": {},
   "outputs": [
    {
     "data": {
      "text/plain": [
       "[7, 8, 1, 2, 3, 4, 9]"
      ]
     },
     "execution_count": 37,
     "metadata": {},
     "output_type": "execute_result"
    }
   ],
   "source": [
    "move_to_end([7, 8, 9, 1, 2, 3, 4], 9)"
   ]
  },
  {
   "cell_type": "code",
   "execution_count": 38,
   "id": "9bfb14cf",
   "metadata": {},
   "outputs": [
    {
     "data": {
      "text/plain": [
       "['b', 'a', 'a', 'a']"
      ]
     },
     "execution_count": 38,
     "metadata": {},
     "output_type": "execute_result"
    }
   ],
   "source": [
    "move_to_end([\"a\", \"a\", \"a\", \"b\"], \"a\")"
   ]
  }
 ],
 "metadata": {
  "kernelspec": {
   "display_name": "Python 3",
   "language": "python",
   "name": "python3"
  },
  "language_info": {
   "codemirror_mode": {
    "name": "ipython",
    "version": 3
   },
   "file_extension": ".py",
   "mimetype": "text/x-python",
   "name": "python",
   "nbconvert_exporter": "python",
   "pygments_lexer": "ipython3",
   "version": "3.8.8"
  }
 },
 "nbformat": 4,
 "nbformat_minor": 5
}
